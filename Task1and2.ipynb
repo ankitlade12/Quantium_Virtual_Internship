{
 "cells": [
  {
   "cell_type": "markdown",
   "metadata": {},
   "source": [
    "## Data Loading and Cleaning"
   ]
  },
  {
   "cell_type": "code",
   "execution_count": 1,
   "metadata": {},
   "outputs": [
    {
     "name": "stdout",
     "output_type": "stream",
     "text": [
      "Requirement already satisfied: pywaffle in c:\\users\\ankit\\anaconda3\\lib\\site-packages (0.6.1)\n",
      "Requirement already satisfied: matplotlib in c:\\users\\ankit\\anaconda3\\lib\\site-packages (from pywaffle) (3.1.3)\n",
      "Requirement already satisfied: cycler>=0.10 in c:\\users\\ankit\\anaconda3\\lib\\site-packages (from matplotlib->pywaffle) (0.10.0)\n",
      "Requirement already satisfied: kiwisolver>=1.0.1 in c:\\users\\ankit\\anaconda3\\lib\\site-packages (from matplotlib->pywaffle) (1.2.0)\n",
      "Requirement already satisfied: numpy>=1.11 in c:\\users\\ankit\\anaconda3\\lib\\site-packages (from matplotlib->pywaffle) (1.18.2)\n",
      "Requirement already satisfied: pyparsing!=2.0.4,!=2.1.2,!=2.1.6,>=2.0.1 in c:\\users\\ankit\\anaconda3\\lib\\site-packages (from matplotlib->pywaffle) (2.4.7)\n",
      "Requirement already satisfied: python-dateutil>=2.1 in c:\\users\\ankit\\anaconda3\\lib\\site-packages (from matplotlib->pywaffle) (2.8.1)\n",
      "Requirement already satisfied: six in c:\\users\\ankit\\anaconda3\\lib\\site-packages (from cycler>=0.10->matplotlib->pywaffle) (1.15.0)\n",
      "Requirement already satisfied: mlxtend in c:\\users\\ankit\\anaconda3\\lib\\site-packages (0.17.3)\n",
      "Requirement already satisfied: scikit-learn>=0.20.3 in c:\\users\\ankit\\anaconda3\\lib\\site-packages (from mlxtend) (0.22.1)\n",
      "Requirement already satisfied: pandas>=0.24.2 in c:\\users\\ankit\\anaconda3\\lib\\site-packages (from mlxtend) (1.0.3)\n",
      "Requirement already satisfied: matplotlib>=3.0.0 in c:\\users\\ankit\\anaconda3\\lib\\site-packages (from mlxtend) (3.1.3)\n",
      "Requirement already satisfied: setuptools in c:\\users\\ankit\\anaconda3\\lib\\site-packages (from mlxtend) (49.2.0.post20200714)\n",
      "Requirement already satisfied: scipy>=1.2.1 in c:\\users\\ankit\\anaconda3\\lib\\site-packages (from mlxtend) (1.4.1)\n",
      "Requirement already satisfied: joblib>=0.13.2 in c:\\users\\ankit\\anaconda3\\lib\\site-packages (from mlxtend) (0.16.0)\n",
      "Requirement already satisfied: numpy>=1.16.2 in c:\\users\\ankit\\anaconda3\\lib\\site-packages (from mlxtend) (1.18.2)\n",
      "Requirement already satisfied: pytz>=2017.2 in c:\\users\\ankit\\anaconda3\\lib\\site-packages (from pandas>=0.24.2->mlxtend) (2020.1)\n",
      "Requirement already satisfied: python-dateutil>=2.6.1 in c:\\users\\ankit\\anaconda3\\lib\\site-packages (from pandas>=0.24.2->mlxtend) (2.8.1)\n",
      "Requirement already satisfied: kiwisolver>=1.0.1 in c:\\users\\ankit\\anaconda3\\lib\\site-packages (from matplotlib>=3.0.0->mlxtend) (1.2.0)\n",
      "Requirement already satisfied: pyparsing!=2.0.4,!=2.1.2,!=2.1.6,>=2.0.1 in c:\\users\\ankit\\anaconda3\\lib\\site-packages (from matplotlib>=3.0.0->mlxtend) (2.4.7)\n",
      "Requirement already satisfied: cycler>=0.10 in c:\\users\\ankit\\anaconda3\\lib\\site-packages (from matplotlib>=3.0.0->mlxtend) (0.10.0)\n",
      "Requirement already satisfied: six>=1.5 in c:\\users\\ankit\\anaconda3\\lib\\site-packages (from python-dateutil>=2.6.1->pandas>=0.24.2->mlxtend) (1.15.0)\n"
     ]
    }
   ],
   "source": [
    "#Libraries\n",
    "import numpy as np\n",
    "import matplotlib.pyplot as plt\n",
    "import pandas as pd\n",
    "import seaborn as sns\n",
    "import datetime as dt\n",
    "import re\n",
    "import matplotlib.dates as mdates\n",
    "!pip install pywaffle\n",
    "from pywaffle import Waffle\n",
    "!pip install mlxtend\n",
    "from mlxtend.frequent_patterns import apriori\n",
    "from mlxtend.frequent_patterns import association_rules"
   ]
  },
  {
   "cell_type": "code",
   "execution_count": 2,
   "metadata": {},
   "outputs": [],
   "source": [
    "df = pd.read_excel('C:/Users/ANKIT/Desktop/Virtual Internship/QVI_transaction_data.xlsx')"
   ]
  },
  {
   "cell_type": "code",
   "execution_count": 3,
   "metadata": {},
   "outputs": [
    {
     "data": {
      "text/html": [
       "<div>\n",
       "<style scoped>\n",
       "    .dataframe tbody tr th:only-of-type {\n",
       "        vertical-align: middle;\n",
       "    }\n",
       "\n",
       "    .dataframe tbody tr th {\n",
       "        vertical-align: top;\n",
       "    }\n",
       "\n",
       "    .dataframe thead th {\n",
       "        text-align: right;\n",
       "    }\n",
       "</style>\n",
       "<table border=\"1\" class=\"dataframe\">\n",
       "  <thead>\n",
       "    <tr style=\"text-align: right;\">\n",
       "      <th></th>\n",
       "      <th>DATE</th>\n",
       "      <th>STORE_NBR</th>\n",
       "      <th>LYLTY_CARD_NBR</th>\n",
       "      <th>TXN_ID</th>\n",
       "      <th>PROD_NBR</th>\n",
       "      <th>PROD_NAME</th>\n",
       "      <th>PROD_QTY</th>\n",
       "      <th>TOT_SALES</th>\n",
       "    </tr>\n",
       "  </thead>\n",
       "  <tbody>\n",
       "    <tr>\n",
       "      <th>0</th>\n",
       "      <td>43390</td>\n",
       "      <td>1</td>\n",
       "      <td>1000</td>\n",
       "      <td>1</td>\n",
       "      <td>5</td>\n",
       "      <td>Natural Chip        Compny SeaSalt175g</td>\n",
       "      <td>2</td>\n",
       "      <td>6.0</td>\n",
       "    </tr>\n",
       "    <tr>\n",
       "      <th>1</th>\n",
       "      <td>43599</td>\n",
       "      <td>1</td>\n",
       "      <td>1307</td>\n",
       "      <td>348</td>\n",
       "      <td>66</td>\n",
       "      <td>CCs Nacho Cheese    175g</td>\n",
       "      <td>3</td>\n",
       "      <td>6.3</td>\n",
       "    </tr>\n",
       "    <tr>\n",
       "      <th>2</th>\n",
       "      <td>43605</td>\n",
       "      <td>1</td>\n",
       "      <td>1343</td>\n",
       "      <td>383</td>\n",
       "      <td>61</td>\n",
       "      <td>Smiths Crinkle Cut  Chips Chicken 170g</td>\n",
       "      <td>2</td>\n",
       "      <td>2.9</td>\n",
       "    </tr>\n",
       "    <tr>\n",
       "      <th>3</th>\n",
       "      <td>43329</td>\n",
       "      <td>2</td>\n",
       "      <td>2373</td>\n",
       "      <td>974</td>\n",
       "      <td>69</td>\n",
       "      <td>Smiths Chip Thinly  S/Cream&amp;Onion 175g</td>\n",
       "      <td>5</td>\n",
       "      <td>15.0</td>\n",
       "    </tr>\n",
       "    <tr>\n",
       "      <th>4</th>\n",
       "      <td>43330</td>\n",
       "      <td>2</td>\n",
       "      <td>2426</td>\n",
       "      <td>1038</td>\n",
       "      <td>108</td>\n",
       "      <td>Kettle Tortilla ChpsHny&amp;Jlpno Chili 150g</td>\n",
       "      <td>3</td>\n",
       "      <td>13.8</td>\n",
       "    </tr>\n",
       "  </tbody>\n",
       "</table>\n",
       "</div>"
      ],
      "text/plain": [
       "    DATE  STORE_NBR  LYLTY_CARD_NBR  TXN_ID  PROD_NBR  \\\n",
       "0  43390          1            1000       1         5   \n",
       "1  43599          1            1307     348        66   \n",
       "2  43605          1            1343     383        61   \n",
       "3  43329          2            2373     974        69   \n",
       "4  43330          2            2426    1038       108   \n",
       "\n",
       "                                  PROD_NAME  PROD_QTY  TOT_SALES  \n",
       "0    Natural Chip        Compny SeaSalt175g         2        6.0  \n",
       "1                  CCs Nacho Cheese    175g         3        6.3  \n",
       "2    Smiths Crinkle Cut  Chips Chicken 170g         2        2.9  \n",
       "3    Smiths Chip Thinly  S/Cream&Onion 175g         5       15.0  \n",
       "4  Kettle Tortilla ChpsHny&Jlpno Chili 150g         3       13.8  "
      ]
     },
     "execution_count": 3,
     "metadata": {},
     "output_type": "execute_result"
    }
   ],
   "source": [
    "df.head()"
   ]
  },
  {
   "cell_type": "code",
   "execution_count": 4,
   "metadata": {},
   "outputs": [
    {
     "data": {
      "text/html": [
       "<div>\n",
       "<style scoped>\n",
       "    .dataframe tbody tr th:only-of-type {\n",
       "        vertical-align: middle;\n",
       "    }\n",
       "\n",
       "    .dataframe tbody tr th {\n",
       "        vertical-align: top;\n",
       "    }\n",
       "\n",
       "    .dataframe thead th {\n",
       "        text-align: right;\n",
       "    }\n",
       "</style>\n",
       "<table border=\"1\" class=\"dataframe\">\n",
       "  <thead>\n",
       "    <tr style=\"text-align: right;\">\n",
       "      <th></th>\n",
       "      <th>DATE</th>\n",
       "      <th>STORE_NBR</th>\n",
       "      <th>LYLTY_CARD_NBR</th>\n",
       "      <th>TXN_ID</th>\n",
       "      <th>PROD_NBR</th>\n",
       "      <th>PROD_NAME</th>\n",
       "      <th>PROD_QTY</th>\n",
       "      <th>TOT_SALES</th>\n",
       "    </tr>\n",
       "  </thead>\n",
       "  <tbody>\n",
       "    <tr>\n",
       "      <th>264831</th>\n",
       "      <td>43533</td>\n",
       "      <td>272</td>\n",
       "      <td>272319</td>\n",
       "      <td>270088</td>\n",
       "      <td>89</td>\n",
       "      <td>Kettle Sweet Chilli And Sour Cream 175g</td>\n",
       "      <td>2</td>\n",
       "      <td>10.8</td>\n",
       "    </tr>\n",
       "    <tr>\n",
       "      <th>264832</th>\n",
       "      <td>43325</td>\n",
       "      <td>272</td>\n",
       "      <td>272358</td>\n",
       "      <td>270154</td>\n",
       "      <td>74</td>\n",
       "      <td>Tostitos Splash Of  Lime 175g</td>\n",
       "      <td>1</td>\n",
       "      <td>4.4</td>\n",
       "    </tr>\n",
       "    <tr>\n",
       "      <th>264833</th>\n",
       "      <td>43410</td>\n",
       "      <td>272</td>\n",
       "      <td>272379</td>\n",
       "      <td>270187</td>\n",
       "      <td>51</td>\n",
       "      <td>Doritos Mexicana    170g</td>\n",
       "      <td>2</td>\n",
       "      <td>8.8</td>\n",
       "    </tr>\n",
       "    <tr>\n",
       "      <th>264834</th>\n",
       "      <td>43461</td>\n",
       "      <td>272</td>\n",
       "      <td>272379</td>\n",
       "      <td>270188</td>\n",
       "      <td>42</td>\n",
       "      <td>Doritos Corn Chip Mexican Jalapeno 150g</td>\n",
       "      <td>2</td>\n",
       "      <td>7.8</td>\n",
       "    </tr>\n",
       "    <tr>\n",
       "      <th>264835</th>\n",
       "      <td>43365</td>\n",
       "      <td>272</td>\n",
       "      <td>272380</td>\n",
       "      <td>270189</td>\n",
       "      <td>74</td>\n",
       "      <td>Tostitos Splash Of  Lime 175g</td>\n",
       "      <td>2</td>\n",
       "      <td>8.8</td>\n",
       "    </tr>\n",
       "  </tbody>\n",
       "</table>\n",
       "</div>"
      ],
      "text/plain": [
       "         DATE  STORE_NBR  LYLTY_CARD_NBR  TXN_ID  PROD_NBR  \\\n",
       "264831  43533        272          272319  270088        89   \n",
       "264832  43325        272          272358  270154        74   \n",
       "264833  43410        272          272379  270187        51   \n",
       "264834  43461        272          272379  270188        42   \n",
       "264835  43365        272          272380  270189        74   \n",
       "\n",
       "                                      PROD_NAME  PROD_QTY  TOT_SALES  \n",
       "264831  Kettle Sweet Chilli And Sour Cream 175g         2       10.8  \n",
       "264832            Tostitos Splash Of  Lime 175g         1        4.4  \n",
       "264833                 Doritos Mexicana    170g         2        8.8  \n",
       "264834  Doritos Corn Chip Mexican Jalapeno 150g         2        7.8  \n",
       "264835            Tostitos Splash Of  Lime 175g         2        8.8  "
      ]
     },
     "execution_count": 4,
     "metadata": {},
     "output_type": "execute_result"
    }
   ],
   "source": [
    "df.tail()"
   ]
  },
  {
   "cell_type": "code",
   "execution_count": 5,
   "metadata": {},
   "outputs": [
    {
     "data": {
      "text/html": [
       "<div>\n",
       "<style scoped>\n",
       "    .dataframe tbody tr th:only-of-type {\n",
       "        vertical-align: middle;\n",
       "    }\n",
       "\n",
       "    .dataframe tbody tr th {\n",
       "        vertical-align: top;\n",
       "    }\n",
       "\n",
       "    .dataframe thead th {\n",
       "        text-align: right;\n",
       "    }\n",
       "</style>\n",
       "<table border=\"1\" class=\"dataframe\">\n",
       "  <thead>\n",
       "    <tr style=\"text-align: right;\">\n",
       "      <th></th>\n",
       "      <th>DATE</th>\n",
       "      <th>STORE_NBR</th>\n",
       "      <th>LYLTY_CARD_NBR</th>\n",
       "      <th>TXN_ID</th>\n",
       "      <th>PROD_NBR</th>\n",
       "      <th>PROD_QTY</th>\n",
       "      <th>TOT_SALES</th>\n",
       "    </tr>\n",
       "  </thead>\n",
       "  <tbody>\n",
       "    <tr>\n",
       "      <th>count</th>\n",
       "      <td>264836.000000</td>\n",
       "      <td>264836.00000</td>\n",
       "      <td>2.648360e+05</td>\n",
       "      <td>2.648360e+05</td>\n",
       "      <td>264836.000000</td>\n",
       "      <td>264836.000000</td>\n",
       "      <td>264836.000000</td>\n",
       "    </tr>\n",
       "    <tr>\n",
       "      <th>mean</th>\n",
       "      <td>43464.036260</td>\n",
       "      <td>135.08011</td>\n",
       "      <td>1.355495e+05</td>\n",
       "      <td>1.351583e+05</td>\n",
       "      <td>56.583157</td>\n",
       "      <td>1.907309</td>\n",
       "      <td>7.304200</td>\n",
       "    </tr>\n",
       "    <tr>\n",
       "      <th>std</th>\n",
       "      <td>105.389282</td>\n",
       "      <td>76.78418</td>\n",
       "      <td>8.057998e+04</td>\n",
       "      <td>7.813303e+04</td>\n",
       "      <td>32.826638</td>\n",
       "      <td>0.643654</td>\n",
       "      <td>3.083226</td>\n",
       "    </tr>\n",
       "    <tr>\n",
       "      <th>min</th>\n",
       "      <td>43282.000000</td>\n",
       "      <td>1.00000</td>\n",
       "      <td>1.000000e+03</td>\n",
       "      <td>1.000000e+00</td>\n",
       "      <td>1.000000</td>\n",
       "      <td>1.000000</td>\n",
       "      <td>1.500000</td>\n",
       "    </tr>\n",
       "    <tr>\n",
       "      <th>25%</th>\n",
       "      <td>43373.000000</td>\n",
       "      <td>70.00000</td>\n",
       "      <td>7.002100e+04</td>\n",
       "      <td>6.760150e+04</td>\n",
       "      <td>28.000000</td>\n",
       "      <td>2.000000</td>\n",
       "      <td>5.400000</td>\n",
       "    </tr>\n",
       "    <tr>\n",
       "      <th>50%</th>\n",
       "      <td>43464.000000</td>\n",
       "      <td>130.00000</td>\n",
       "      <td>1.303575e+05</td>\n",
       "      <td>1.351375e+05</td>\n",
       "      <td>56.000000</td>\n",
       "      <td>2.000000</td>\n",
       "      <td>7.400000</td>\n",
       "    </tr>\n",
       "    <tr>\n",
       "      <th>75%</th>\n",
       "      <td>43555.000000</td>\n",
       "      <td>203.00000</td>\n",
       "      <td>2.030942e+05</td>\n",
       "      <td>2.027012e+05</td>\n",
       "      <td>85.000000</td>\n",
       "      <td>2.000000</td>\n",
       "      <td>9.200000</td>\n",
       "    </tr>\n",
       "    <tr>\n",
       "      <th>max</th>\n",
       "      <td>43646.000000</td>\n",
       "      <td>272.00000</td>\n",
       "      <td>2.373711e+06</td>\n",
       "      <td>2.415841e+06</td>\n",
       "      <td>114.000000</td>\n",
       "      <td>200.000000</td>\n",
       "      <td>650.000000</td>\n",
       "    </tr>\n",
       "  </tbody>\n",
       "</table>\n",
       "</div>"
      ],
      "text/plain": [
       "                DATE     STORE_NBR  LYLTY_CARD_NBR        TXN_ID  \\\n",
       "count  264836.000000  264836.00000    2.648360e+05  2.648360e+05   \n",
       "mean    43464.036260     135.08011    1.355495e+05  1.351583e+05   \n",
       "std       105.389282      76.78418    8.057998e+04  7.813303e+04   \n",
       "min     43282.000000       1.00000    1.000000e+03  1.000000e+00   \n",
       "25%     43373.000000      70.00000    7.002100e+04  6.760150e+04   \n",
       "50%     43464.000000     130.00000    1.303575e+05  1.351375e+05   \n",
       "75%     43555.000000     203.00000    2.030942e+05  2.027012e+05   \n",
       "max     43646.000000     272.00000    2.373711e+06  2.415841e+06   \n",
       "\n",
       "            PROD_NBR       PROD_QTY      TOT_SALES  \n",
       "count  264836.000000  264836.000000  264836.000000  \n",
       "mean       56.583157       1.907309       7.304200  \n",
       "std        32.826638       0.643654       3.083226  \n",
       "min         1.000000       1.000000       1.500000  \n",
       "25%        28.000000       2.000000       5.400000  \n",
       "50%        56.000000       2.000000       7.400000  \n",
       "75%        85.000000       2.000000       9.200000  \n",
       "max       114.000000     200.000000     650.000000  "
      ]
     },
     "execution_count": 5,
     "metadata": {},
     "output_type": "execute_result"
    }
   ],
   "source": [
    "#Summarize Data\n",
    "df.describe()"
   ]
  },
  {
   "cell_type": "code",
   "execution_count": 6,
   "metadata": {},
   "outputs": [
    {
     "data": {
      "text/plain": [
       "DATE              0\n",
       "STORE_NBR         0\n",
       "LYLTY_CARD_NBR    0\n",
       "TXN_ID            0\n",
       "PROD_NBR          0\n",
       "PROD_NAME         0\n",
       "PROD_QTY          0\n",
       "TOT_SALES         0\n",
       "dtype: int64"
      ]
     },
     "execution_count": 6,
     "metadata": {},
     "output_type": "execute_result"
    }
   ],
   "source": [
    "#Check for missing Values\n",
    "df.isnull().sum()"
   ]
  },
  {
   "cell_type": "markdown",
   "metadata": {},
   "source": [
    "## Removing Outliers"
   ]
  },
  {
   "cell_type": "code",
   "execution_count": 7,
   "metadata": {},
   "outputs": [
    {
     "data": {
      "text/plain": [
       "<matplotlib.axes._subplots.AxesSubplot at 0x2509c0dd488>"
      ]
     },
     "execution_count": 7,
     "metadata": {},
     "output_type": "execute_result"
    },
    {
     "data": {
      "image/png": "[encoded data removed]",
      "text/plain": [
       "<Figure size 432x288 with 1 Axes>"
      ]
     },
     "metadata": {
      "needs_background": "light"
     },
     "output_type": "display_data"
    }
   ],
   "source": [
    "sns.boxplot(df.TOT_SALES)"
   ]
  },
  {
   "cell_type": "code",
   "execution_count": 8,
   "metadata": {},
   "outputs": [
    {
     "data": {
      "text/plain": [
       "<matplotlib.axes._subplots.AxesSubplot at 0x250a3c4be48>"
      ]
     },
     "execution_count": 8,
     "metadata": {},
     "output_type": "execute_result"
    },
    {
     "data": {
      "image/png": "[encoded data removed]",
      "text/plain": [
       "<Figure size 432x288 with 1 Axes>"
      ]
     },
     "metadata": {
      "needs_background": "light"
     },
     "output_type": "display_data"
    }
   ],
   "source": [
    "sns.distplot(df.TOT_SALES, kde=True)"
   ]
  },
  {
   "cell_type": "code",
   "execution_count": 9,
   "metadata": {},
   "outputs": [],
   "source": [
    "numericdata = df.select_dtypes(['float64','int64'])"
   ]
  },
  {
   "cell_type": "code",
   "execution_count": 10,
   "metadata": {},
   "outputs": [
    {
     "data": {
      "text/html": [
       "<div>\n",
       "<style scoped>\n",
       "    .dataframe tbody tr th:only-of-type {\n",
       "        vertical-align: middle;\n",
       "    }\n",
       "\n",
       "    .dataframe tbody tr th {\n",
       "        vertical-align: top;\n",
       "    }\n",
       "\n",
       "    .dataframe thead th {\n",
       "        text-align: right;\n",
       "    }\n",
       "</style>\n",
       "<table border=\"1\" class=\"dataframe\">\n",
       "  <thead>\n",
       "    <tr style=\"text-align: right;\">\n",
       "      <th></th>\n",
       "      <th>DATE</th>\n",
       "      <th>STORE_NBR</th>\n",
       "      <th>LYLTY_CARD_NBR</th>\n",
       "      <th>TXN_ID</th>\n",
       "      <th>PROD_NBR</th>\n",
       "      <th>PROD_QTY</th>\n",
       "      <th>TOT_SALES</th>\n",
       "    </tr>\n",
       "  </thead>\n",
       "  <tbody>\n",
       "    <tr>\n",
       "      <th>0</th>\n",
       "      <td>43390</td>\n",
       "      <td>1</td>\n",
       "      <td>1000</td>\n",
       "      <td>1</td>\n",
       "      <td>5</td>\n",
       "      <td>2</td>\n",
       "      <td>6.0</td>\n",
       "    </tr>\n",
       "    <tr>\n",
       "      <th>1</th>\n",
       "      <td>43599</td>\n",
       "      <td>1</td>\n",
       "      <td>1307</td>\n",
       "      <td>348</td>\n",
       "      <td>66</td>\n",
       "      <td>3</td>\n",
       "      <td>6.3</td>\n",
       "    </tr>\n",
       "    <tr>\n",
       "      <th>2</th>\n",
       "      <td>43605</td>\n",
       "      <td>1</td>\n",
       "      <td>1343</td>\n",
       "      <td>383</td>\n",
       "      <td>61</td>\n",
       "      <td>2</td>\n",
       "      <td>2.9</td>\n",
       "    </tr>\n",
       "    <tr>\n",
       "      <th>3</th>\n",
       "      <td>43329</td>\n",
       "      <td>2</td>\n",
       "      <td>2373</td>\n",
       "      <td>974</td>\n",
       "      <td>69</td>\n",
       "      <td>5</td>\n",
       "      <td>15.0</td>\n",
       "    </tr>\n",
       "    <tr>\n",
       "      <th>4</th>\n",
       "      <td>43330</td>\n",
       "      <td>2</td>\n",
       "      <td>2426</td>\n",
       "      <td>1038</td>\n",
       "      <td>108</td>\n",
       "      <td>3</td>\n",
       "      <td>13.8</td>\n",
       "    </tr>\n",
       "  </tbody>\n",
       "</table>\n",
       "</div>"
      ],
      "text/plain": [
       "    DATE  STORE_NBR  LYLTY_CARD_NBR  TXN_ID  PROD_NBR  PROD_QTY  TOT_SALES\n",
       "0  43390          1            1000       1         5         2        6.0\n",
       "1  43599          1            1307     348        66         3        6.3\n",
       "2  43605          1            1343     383        61         2        2.9\n",
       "3  43329          2            2373     974        69         5       15.0\n",
       "4  43330          2            2426    1038       108         3       13.8"
      ]
     },
     "execution_count": 10,
     "metadata": {},
     "output_type": "execute_result"
    }
   ],
   "source": [
    "numericdata.head()"
   ]
  },
  {
   "cell_type": "code",
   "execution_count": 11,
   "metadata": {},
   "outputs": [],
   "source": [
    "a = numericdata[numericdata['TOT_SALES']<8.000]"
   ]
  },
  {
   "cell_type": "code",
   "execution_count": 12,
   "metadata": {},
   "outputs": [
    {
     "data": {
      "text/plain": [
       "<matplotlib.axes._subplots.AxesSubplot at 0x2509eef5308>"
      ]
     },
     "execution_count": 12,
     "metadata": {},
     "output_type": "execute_result"
    },
    {
     "data": {
      "image/png": "[encoded data removed]",
      "text/plain": [
       "<Figure size 432x288 with 1 Axes>"
      ]
     },
     "metadata": {
      "needs_background": "light"
     },
     "output_type": "display_data"
    }
   ],
   "source": [
    "sns.distplot(a.TOT_SALES, kde=False)"
   ]
  },
  {
   "cell_type": "code",
   "execution_count": 13,
   "metadata": {},
   "outputs": [
    {
     "data": {
      "text/plain": [
       "<matplotlib.axes._subplots.AxesSubplot at 0x2509c82e908>"
      ]
     },
     "execution_count": 13,
     "metadata": {},
     "output_type": "execute_result"
    },
    {
     "data": {
      "image/png": "[encoded data removed]",
      "text/plain": [
       "<Figure size 432x288 with 1 Axes>"
      ]
     },
     "metadata": {
      "needs_background": "light"
     },
     "output_type": "display_data"
    }
   ],
   "source": [
    "sns.distplot(a.TOT_SALES, kde=True)"
   ]
  },
  {
   "cell_type": "code",
   "execution_count": 14,
   "metadata": {},
   "outputs": [
    {
     "data": {
      "text/plain": [
       "<matplotlib.axes._subplots.AxesSubplot at 0x250a31b9248>"
      ]
     },
     "execution_count": 14,
     "metadata": {},
     "output_type": "execute_result"
    },
    {
     "data": {
      "image/png": "[encoded data removed]",
      "text/plain": [
       "<Figure size 432x288 with 1 Axes>"
      ]
     },
     "metadata": {
      "needs_background": "light"
     },
     "output_type": "display_data"
    }
   ],
   "source": [
    "sns.boxplot(a.TOT_SALES)"
   ]
  },
  {
   "cell_type": "markdown",
   "metadata": {},
   "source": [
    "## Fixing Date"
   ]
  },
  {
   "cell_type": "code",
   "execution_count": 15,
   "metadata": {},
   "outputs": [],
   "source": [
    "df['DATE'] = pd.TimedeltaIndex(df['DATE'], unit='d') + dt.datetime(1899, 12, 30)"
   ]
  },
  {
   "cell_type": "code",
   "execution_count": 16,
   "metadata": {},
   "outputs": [
    {
     "data": {
      "text/html": [
       "<div>\n",
       "<style scoped>\n",
       "    .dataframe tbody tr th:only-of-type {\n",
       "        vertical-align: middle;\n",
       "    }\n",
       "\n",
       "    .dataframe tbody tr th {\n",
       "        vertical-align: top;\n",
       "    }\n",
       "\n",
       "    .dataframe thead th {\n",
       "        text-align: right;\n",
       "    }\n",
       "</style>\n",
       "<table border=\"1\" class=\"dataframe\">\n",
       "  <thead>\n",
       "    <tr style=\"text-align: right;\">\n",
       "      <th></th>\n",
       "      <th>DATE</th>\n",
       "      <th>STORE_NBR</th>\n",
       "      <th>LYLTY_CARD_NBR</th>\n",
       "      <th>TXN_ID</th>\n",
       "      <th>PROD_NBR</th>\n",
       "      <th>PROD_NAME</th>\n",
       "      <th>PROD_QTY</th>\n",
       "      <th>TOT_SALES</th>\n",
       "    </tr>\n",
       "  </thead>\n",
       "  <tbody>\n",
       "    <tr>\n",
       "      <th>0</th>\n",
       "      <td>2018-10-17</td>\n",
       "      <td>1</td>\n",
       "      <td>1000</td>\n",
       "      <td>1</td>\n",
       "      <td>5</td>\n",
       "      <td>Natural Chip        Compny SeaSalt175g</td>\n",
       "      <td>2</td>\n",
       "      <td>6.0</td>\n",
       "    </tr>\n",
       "    <tr>\n",
       "      <th>1</th>\n",
       "      <td>2019-05-14</td>\n",
       "      <td>1</td>\n",
       "      <td>1307</td>\n",
       "      <td>348</td>\n",
       "      <td>66</td>\n",
       "      <td>CCs Nacho Cheese    175g</td>\n",
       "      <td>3</td>\n",
       "      <td>6.3</td>\n",
       "    </tr>\n",
       "    <tr>\n",
       "      <th>2</th>\n",
       "      <td>2019-05-20</td>\n",
       "      <td>1</td>\n",
       "      <td>1343</td>\n",
       "      <td>383</td>\n",
       "      <td>61</td>\n",
       "      <td>Smiths Crinkle Cut  Chips Chicken 170g</td>\n",
       "      <td>2</td>\n",
       "      <td>2.9</td>\n",
       "    </tr>\n",
       "    <tr>\n",
       "      <th>3</th>\n",
       "      <td>2018-08-17</td>\n",
       "      <td>2</td>\n",
       "      <td>2373</td>\n",
       "      <td>974</td>\n",
       "      <td>69</td>\n",
       "      <td>Smiths Chip Thinly  S/Cream&amp;Onion 175g</td>\n",
       "      <td>5</td>\n",
       "      <td>15.0</td>\n",
       "    </tr>\n",
       "    <tr>\n",
       "      <th>4</th>\n",
       "      <td>2018-08-18</td>\n",
       "      <td>2</td>\n",
       "      <td>2426</td>\n",
       "      <td>1038</td>\n",
       "      <td>108</td>\n",
       "      <td>Kettle Tortilla ChpsHny&amp;Jlpno Chili 150g</td>\n",
       "      <td>3</td>\n",
       "      <td>13.8</td>\n",
       "    </tr>\n",
       "  </tbody>\n",
       "</table>\n",
       "</div>"
      ],
      "text/plain": [
       "        DATE  STORE_NBR  LYLTY_CARD_NBR  TXN_ID  PROD_NBR  \\\n",
       "0 2018-10-17          1            1000       1         5   \n",
       "1 2019-05-14          1            1307     348        66   \n",
       "2 2019-05-20          1            1343     383        61   \n",
       "3 2018-08-17          2            2373     974        69   \n",
       "4 2018-08-18          2            2426    1038       108   \n",
       "\n",
       "                                  PROD_NAME  PROD_QTY  TOT_SALES  \n",
       "0    Natural Chip        Compny SeaSalt175g         2        6.0  \n",
       "1                  CCs Nacho Cheese    175g         3        6.3  \n",
       "2    Smiths Crinkle Cut  Chips Chicken 170g         2        2.9  \n",
       "3    Smiths Chip Thinly  S/Cream&Onion 175g         5       15.0  \n",
       "4  Kettle Tortilla ChpsHny&Jlpno Chili 150g         3       13.8  "
      ]
     },
     "execution_count": 16,
     "metadata": {},
     "output_type": "execute_result"
    }
   ],
   "source": [
    "df.head()"
   ]
  },
  {
   "cell_type": "code",
   "execution_count": 17,
   "metadata": {},
   "outputs": [
    {
     "data": {
      "text/plain": [
       "DATE              datetime64[ns]\n",
       "STORE_NBR                  int64\n",
       "LYLTY_CARD_NBR             int64\n",
       "TXN_ID                     int64\n",
       "PROD_NBR                   int64\n",
       "PROD_NAME                 object\n",
       "PROD_QTY                   int64\n",
       "TOT_SALES                float64\n",
       "dtype: object"
      ]
     },
     "execution_count": 17,
     "metadata": {},
     "output_type": "execute_result"
    }
   ],
   "source": [
    "df.dtypes"
   ]
  },
  {
   "cell_type": "markdown",
   "metadata": {},
   "source": [
    "## Product Name"
   ]
  },
  {
   "cell_type": "code",
   "execution_count": 18,
   "metadata": {},
   "outputs": [],
   "source": [
    "# Extract product size\n",
    "df['PROD_SIZE'] = [re.search(r\"[0-9]+(g|G)\", p).group(0).replace('G','').replace('g','') \n",
    "for p in df['PROD_NAME']]"
   ]
  },
  {
   "cell_type": "code",
   "execution_count": 19,
   "metadata": {},
   "outputs": [
    {
     "data": {
      "text/plain": [
       "array(['Natural Chip        Compny SeaSalt175g',\n",
       "       'CCs Nacho Cheese    175g',\n",
       "       'Smiths Crinkle Cut  Chips Chicken 170g',\n",
       "       'Smiths Chip Thinly  S/Cream&Onion 175g',\n",
       "       'Kettle Tortilla ChpsHny&Jlpno Chili 150g',\n",
       "       'Old El Paso Salsa   Dip Tomato Mild 300g',\n",
       "       'Smiths Crinkle Chips Salt & Vinegar 330g',\n",
       "       'Grain Waves         Sweet Chilli 210g',\n",
       "       'Doritos Corn Chip Mexican Jalapeno 150g',\n",
       "       'Grain Waves Sour    Cream&Chives 210G'], dtype=object)"
      ]
     },
     "execution_count": 19,
     "metadata": {},
     "output_type": "execute_result"
    }
   ],
   "source": [
    "# unique product names\n",
    "df['PROD_NAME'].unique()[:10]"
   ]
  },
  {
   "cell_type": "code",
   "execution_count": 20,
   "metadata": {},
   "outputs": [],
   "source": [
    "# Remove salsa dips\n",
    "df = df[~df['PROD_NAME'].isin(['Old El Paso Salsa   Dip Tomato Mild 300g',\n",
    "'Old El Paso Salsa   Dip Chnky Tom Ht300g',\n",
    "'Woolworths Mild     Salsa 300g',\n",
    "'Old El Paso Salsa   Dip Tomato Med 300g',\n",
    "'Woolworths Medium   Salsa 300g',\n",
    "'Doritos Salsa Mild  300g',\n",
    "'Doritos Salsa       Medium 300g'])].reset_index(drop=True)"
   ]
  },
  {
   "cell_type": "code",
   "execution_count": 21,
   "metadata": {},
   "outputs": [],
   "source": [
    "# replace & with space and remove multiple spaces\n",
    "df['PROD_NAME'] = [\" \".join(p.replace('&',' ').split()) for p in df['PROD_NAME']]\n",
    "# remove digits that are followed by grams\n",
    "df['PROD_NAME'] = [re.sub(r\"\\s*[0-9]+(g|G)\", r\"\", p) for p in df['PROD_NAME']]"
   ]
  },
  {
   "cell_type": "markdown",
   "metadata": {},
   "source": [
    "## Product Brand"
   ]
  },
  {
   "cell_type": "code",
   "execution_count": 22,
   "metadata": {},
   "outputs": [],
   "source": [
    "def replaceBrands(string):\n",
    "    # specific\n",
    "    string = re.sub(r\"Red Rock Deli\", \"RRD\", string)\n",
    "    string = re.sub(r\"Dorito\", \"Doritos\", string)\n",
    "    string = re.sub(r\"Doritoss\", \"Doritos\", string)\n",
    "    string = re.sub(r\"Smith\", \"Smiths\", string)\n",
    "    string = re.sub(r\"Smithss\", \"Smiths\", string)\n",
    "    string = re.sub(r\"GrnWves\", \"Grain Waves\", string)\n",
    "    string = re.sub(r\"Woolworths\", \"WW\", string) \n",
    "    string = re.sub(r\"Snbts\", \"Sunbites\", string) \n",
    "\n",
    "    return string\n",
    "\n",
    "# standardize common brand names\n",
    "df['PROD_NAME'] = [replaceBrands(s) for s in df['PROD_NAME']]\n",
    "\n",
    "# get brand name from first word\n",
    "df['Brand'] = [s.split(' ')[0] for s in df['PROD_NAME']]"
   ]
  },
  {
   "cell_type": "code",
   "execution_count": 23,
   "metadata": {},
   "outputs": [
    {
     "data": {
      "text/html": [
       "<div>\n",
       "<style scoped>\n",
       "    .dataframe tbody tr th:only-of-type {\n",
       "        vertical-align: middle;\n",
       "    }\n",
       "\n",
       "    .dataframe tbody tr th {\n",
       "        vertical-align: top;\n",
       "    }\n",
       "\n",
       "    .dataframe thead th {\n",
       "        text-align: right;\n",
       "    }\n",
       "</style>\n",
       "<table border=\"1\" class=\"dataframe\">\n",
       "  <thead>\n",
       "    <tr style=\"text-align: right;\">\n",
       "      <th></th>\n",
       "      <th>DATE</th>\n",
       "      <th>STORE_NBR</th>\n",
       "      <th>LYLTY_CARD_NBR</th>\n",
       "      <th>TXN_ID</th>\n",
       "      <th>PROD_NBR</th>\n",
       "      <th>PROD_NAME</th>\n",
       "      <th>PROD_QTY</th>\n",
       "      <th>TOT_SALES</th>\n",
       "      <th>PROD_SIZE</th>\n",
       "      <th>Brand</th>\n",
       "    </tr>\n",
       "  </thead>\n",
       "  <tbody>\n",
       "    <tr>\n",
       "      <th>0</th>\n",
       "      <td>2018-10-17</td>\n",
       "      <td>1</td>\n",
       "      <td>1000</td>\n",
       "      <td>1</td>\n",
       "      <td>5</td>\n",
       "      <td>Natural Chip Compny SeaSalt</td>\n",
       "      <td>2</td>\n",
       "      <td>6.0</td>\n",
       "      <td>175</td>\n",
       "      <td>Natural</td>\n",
       "    </tr>\n",
       "    <tr>\n",
       "      <th>1</th>\n",
       "      <td>2019-05-14</td>\n",
       "      <td>1</td>\n",
       "      <td>1307</td>\n",
       "      <td>348</td>\n",
       "      <td>66</td>\n",
       "      <td>CCs Nacho Cheese</td>\n",
       "      <td>3</td>\n",
       "      <td>6.3</td>\n",
       "      <td>175</td>\n",
       "      <td>CCs</td>\n",
       "    </tr>\n",
       "    <tr>\n",
       "      <th>2</th>\n",
       "      <td>2019-05-20</td>\n",
       "      <td>1</td>\n",
       "      <td>1343</td>\n",
       "      <td>383</td>\n",
       "      <td>61</td>\n",
       "      <td>Smiths Crinkle Cut Chips Chicken</td>\n",
       "      <td>2</td>\n",
       "      <td>2.9</td>\n",
       "      <td>170</td>\n",
       "      <td>Smiths</td>\n",
       "    </tr>\n",
       "    <tr>\n",
       "      <th>3</th>\n",
       "      <td>2018-08-17</td>\n",
       "      <td>2</td>\n",
       "      <td>2373</td>\n",
       "      <td>974</td>\n",
       "      <td>69</td>\n",
       "      <td>Smiths Chip Thinly S/Cream Onion</td>\n",
       "      <td>5</td>\n",
       "      <td>15.0</td>\n",
       "      <td>175</td>\n",
       "      <td>Smiths</td>\n",
       "    </tr>\n",
       "    <tr>\n",
       "      <th>4</th>\n",
       "      <td>2018-08-18</td>\n",
       "      <td>2</td>\n",
       "      <td>2426</td>\n",
       "      <td>1038</td>\n",
       "      <td>108</td>\n",
       "      <td>Kettle Tortilla ChpsHny Jlpno Chili</td>\n",
       "      <td>3</td>\n",
       "      <td>13.8</td>\n",
       "      <td>150</td>\n",
       "      <td>Kettle</td>\n",
       "    </tr>\n",
       "  </tbody>\n",
       "</table>\n",
       "</div>"
      ],
      "text/plain": [
       "        DATE  STORE_NBR  LYLTY_CARD_NBR  TXN_ID  PROD_NBR  \\\n",
       "0 2018-10-17          1            1000       1         5   \n",
       "1 2019-05-14          1            1307     348        66   \n",
       "2 2019-05-20          1            1343     383        61   \n",
       "3 2018-08-17          2            2373     974        69   \n",
       "4 2018-08-18          2            2426    1038       108   \n",
       "\n",
       "                             PROD_NAME  PROD_QTY  TOT_SALES PROD_SIZE    Brand  \n",
       "0          Natural Chip Compny SeaSalt         2        6.0       175  Natural  \n",
       "1                     CCs Nacho Cheese         3        6.3       175      CCs  \n",
       "2     Smiths Crinkle Cut Chips Chicken         2        2.9       170   Smiths  \n",
       "3     Smiths Chip Thinly S/Cream Onion         5       15.0       175   Smiths  \n",
       "4  Kettle Tortilla ChpsHny Jlpno Chili         3       13.8       150   Kettle  "
      ]
     },
     "execution_count": 23,
     "metadata": {},
     "output_type": "execute_result"
    }
   ],
   "source": [
    "df.head()"
   ]
  },
  {
   "cell_type": "markdown",
   "metadata": {},
   "source": [
    "# Exploratory Data Analysis"
   ]
  },
  {
   "cell_type": "markdown",
   "metadata": {},
   "source": [
    "## By Brand"
   ]
  },
  {
   "cell_type": "code",
   "execution_count": 24,
   "metadata": {},
   "outputs": [
    {
     "data": {
      "image/png": "[encoded data removed]",
      "text/plain": [
       "<Figure size 1080x288 with 2 Axes>"
      ]
     },
     "metadata": {
      "needs_background": "light"
     },
     "output_type": "display_data"
    }
   ],
   "source": [
    "fig, axes = plt.subplots(nrows=1, ncols=2, figsize=(15,4))\n",
    "\n",
    "# Product quantity sales by brand\n",
    "ax1=plt.subplot(121)\n",
    "df.groupby(['Brand'], as_index=False).agg({'PROD_QTY': 'sum'}).sort_values('PROD_QTY').plot.barh(x='Brand',legend=False, ax=ax1)\n",
    "\n",
    "ax1.set_xlabel('Quantity Sold')\n",
    "ax1.set_ylabel('Brand')\n",
    "ax1.set_title('Quantities Sold by Brand')\n",
    "\n",
    "ax2=plt.subplot(122)\n",
    "df.groupby(['Brand'], as_index=False)[['TXN_ID']].count().sort_values('TXN_ID').plot.barh(x='Brand',color='#ff7f0e', legend=False, ax=ax2)\n",
    "ax2.set_xlabel('Number of Transactions')\n",
    "ax2.set_ylabel('Brand')\n",
    "ax2.set_title('Transactions by Brand')\n",
    "\n",
    "plt.show()"
   ]
  },
  {
   "cell_type": "markdown",
   "metadata": {},
   "source": [
    "## By Date"
   ]
  },
  {
   "cell_type": "code",
   "execution_count": 25,
   "metadata": {},
   "outputs": [
    {
     "data": {
      "image/png": "[encoded data removed]",
      "text/plain": [
       "<Figure size 1080x288 with 2 Axes>"
      ]
     },
     "metadata": {
      "needs_background": "light"
     },
     "output_type": "display_data"
    }
   ],
   "source": [
    "## Plot quantities sold by date\n",
    "bydate = df.groupby('DATE').agg({'PROD_QTY': 'sum'}).reset_index()\n",
    "\n",
    "fig, axes = plt.subplots(nrows=1, ncols=2, figsize=(15,4))\n",
    "\n",
    "ax1=plt.subplot(121)\n",
    "sns.lineplot(x=\"DATE\", y=\"PROD_QTY\", data=bydate, ax=ax1)\n",
    "ax1.xaxis.set_major_formatter(mdates.DateFormatter(\"%b-%Y\"))\n",
    "sns.lineplot(x=\"DATE\", y=\"PROD_QTY\", data=bydate[(bydate['DATE'] > '2018-11-30') & (bydate['DATE'] < '2019-01-01')], color='#2ca02c', ax=ax1)\n",
    "sns.lineplot(x=\"DATE\", y=\"PROD_QTY\", data=bydate[(bydate['DATE'] > '2018-08-10') & (bydate['DATE'] < '2018-08-24')], color='red', ax=ax1)\n",
    "sns.lineplot(x=\"DATE\", y=\"PROD_QTY\", data=bydate[(bydate['DATE'] > '2019-05-10') & (bydate['DATE'] < '2019-05-24')], color='red', ax=ax1)\n",
    "plt.ylabel('Quantities Sold')\n",
    "plt.title('Quantities Sold Throughout Whole Year')\n",
    "\n",
    "## Plot December quantities sold\n",
    "# filter december\n",
    "december = bydate[bydate['DATE'].isin(pd.date_range(start=\"2018-12-01\",end=\"2018-12-31\").tolist())]\n",
    "\n",
    "# fill in missing dec data\n",
    "december = december.set_index('DATE').reindex(pd.date_range(start=\"2018-12-01\",end=\"2018-12-31\"), fill_value=0)\n",
    "\n",
    "ax2=plt.subplot(122)\n",
    "ax2.bar(december.index,december['PROD_QTY'],color='#2ca02c')\n",
    "ax2.set_xticks(december.index)\n",
    "ax2.xaxis.set_major_formatter(mdates.DateFormatter(\"%b-%d\"))\n",
    "ax2.xaxis.set_minor_formatter(mdates.DateFormatter(\"%b-%d\"))\n",
    "ax2.tick_params(axis='x', rotation=90) \n",
    "plt.ylabel('Quantities Sold')\n",
    "plt.title('Quantities Sold in December')\n",
    "plt.show()\n",
    "\n"
   ]
  },
  {
   "cell_type": "markdown",
   "metadata": {},
   "source": [
    "## By Product Size"
   ]
  },
  {
   "cell_type": "code",
   "execution_count": 26,
   "metadata": {},
   "outputs": [
    {
     "data": {
      "image/png": "[encoded data removed]",
      "text/plain": [
       "<Figure size 1080x288 with 1 Axes>"
      ]
     },
     "metadata": {
      "needs_background": "light"
     },
     "output_type": "display_data"
    }
   ],
   "source": [
    "# Product Size\n",
    "\n",
    "fig, axes = plt.subplots(nrows=1, ncols=1, figsize=(15,4))\n",
    "\n",
    "ax1=plt.subplot(121)\n",
    "df.groupby('PROD_SIZE').agg({'PROD_QTY': 'sum'}).sort_values('PROD_QTY').reset_index().plot.barh(x='PROD_SIZE', legend=False, ax=ax1)\n",
    "ax1.set_ylabel('Product Size (g)')\n",
    "ax1.set_xlabel('Quantities Sold')\n",
    "\n",
    "plt.show()"
   ]
  },
  {
   "cell_type": "code",
   "execution_count": 27,
   "metadata": {},
   "outputs": [],
   "source": [
    "customer =pd.read_csv('C:/Users/ANKIT/Desktop/Virtual Internship/QVI_purchase_behaviour.csv')"
   ]
  },
  {
   "cell_type": "code",
   "execution_count": 28,
   "metadata": {},
   "outputs": [
    {
     "data": {
      "text/html": [
       "<div>\n",
       "<style scoped>\n",
       "    .dataframe tbody tr th:only-of-type {\n",
       "        vertical-align: middle;\n",
       "    }\n",
       "\n",
       "    .dataframe tbody tr th {\n",
       "        vertical-align: top;\n",
       "    }\n",
       "\n",
       "    .dataframe thead th {\n",
       "        text-align: right;\n",
       "    }\n",
       "</style>\n",
       "<table border=\"1\" class=\"dataframe\">\n",
       "  <thead>\n",
       "    <tr style=\"text-align: right;\">\n",
       "      <th></th>\n",
       "      <th>LYLTY_CARD_NBR</th>\n",
       "      <th>LIFESTAGE</th>\n",
       "      <th>PREMIUM_CUSTOMER</th>\n",
       "    </tr>\n",
       "  </thead>\n",
       "  <tbody>\n",
       "    <tr>\n",
       "      <th>0</th>\n",
       "      <td>1000</td>\n",
       "      <td>YOUNG SINGLES/COUPLES</td>\n",
       "      <td>Premium</td>\n",
       "    </tr>\n",
       "    <tr>\n",
       "      <th>1</th>\n",
       "      <td>1002</td>\n",
       "      <td>YOUNG SINGLES/COUPLES</td>\n",
       "      <td>Mainstream</td>\n",
       "    </tr>\n",
       "    <tr>\n",
       "      <th>2</th>\n",
       "      <td>1003</td>\n",
       "      <td>YOUNG FAMILIES</td>\n",
       "      <td>Budget</td>\n",
       "    </tr>\n",
       "    <tr>\n",
       "      <th>3</th>\n",
       "      <td>1004</td>\n",
       "      <td>OLDER SINGLES/COUPLES</td>\n",
       "      <td>Mainstream</td>\n",
       "    </tr>\n",
       "    <tr>\n",
       "      <th>4</th>\n",
       "      <td>1005</td>\n",
       "      <td>MIDAGE SINGLES/COUPLES</td>\n",
       "      <td>Mainstream</td>\n",
       "    </tr>\n",
       "  </tbody>\n",
       "</table>\n",
       "</div>"
      ],
      "text/plain": [
       "   LYLTY_CARD_NBR               LIFESTAGE PREMIUM_CUSTOMER\n",
       "0            1000   YOUNG SINGLES/COUPLES          Premium\n",
       "1            1002   YOUNG SINGLES/COUPLES       Mainstream\n",
       "2            1003          YOUNG FAMILIES           Budget\n",
       "3            1004   OLDER SINGLES/COUPLES       Mainstream\n",
       "4            1005  MIDAGE SINGLES/COUPLES       Mainstream"
      ]
     },
     "execution_count": 28,
     "metadata": {},
     "output_type": "execute_result"
    }
   ],
   "source": [
    "customer.head()"
   ]
  },
  {
   "cell_type": "code",
   "execution_count": 29,
   "metadata": {},
   "outputs": [
    {
     "data": {
      "text/plain": [
       "LYLTY_CARD_NBR      0\n",
       "LIFESTAGE           0\n",
       "PREMIUM_CUSTOMER    0\n",
       "dtype: int64"
      ]
     },
     "execution_count": 29,
     "metadata": {},
     "output_type": "execute_result"
    }
   ],
   "source": [
    "customer.isnull().sum()"
   ]
  },
  {
   "cell_type": "code",
   "execution_count": 30,
   "metadata": {},
   "outputs": [
    {
     "data": {
      "image/png": "[encoded data removed]",
      "text/plain": [
       "<Waffle size 504x360 with 1 Axes>"
      ]
     },
     "metadata": {
      "needs_background": "light"
     },
     "output_type": "display_data"
    }
   ],
   "source": [
    "premium = dict(customer['PREMIUM_CUSTOMER'].value_counts()/len(customer)*100)\n",
    "\n",
    "plt.figure(figsize=(7,5),\n",
    "    FigureClass=Waffle, \n",
    "    rows=5, \n",
    "    values=premium, \n",
    "    colors=[\"#1f77b4\", \"#ff7f0e\", \"green\"],\n",
    "    legend={'loc': 'upper left', 'bbox_to_anchor': (1, 1)},\n",
    "    icons='child', \n",
    "    font_size=15, \n",
    "    icon_legend=True)\n",
    "    \n",
    "plt.show()"
   ]
  },
  {
   "cell_type": "code",
   "execution_count": 31,
   "metadata": {},
   "outputs": [
    {
     "data": {
      "image/png": "[encoded data removed]",
      "text/plain": [
       "<Figure size 432x288 with 1 Axes>"
      ]
     },
     "metadata": {
      "needs_background": "light"
     },
     "output_type": "display_data"
    }
   ],
   "source": [
    "# Plot customer lifestage counts\n",
    "customer.LIFESTAGE.value_counts().plot(kind='barh', alpha=.9, color=sns.color_palette(\"colorblind\"), title='Customer Lifestage Demographics').invert_yaxis()"
   ]
  },
  {
   "cell_type": "markdown",
   "metadata": {},
   "source": [
    "## Merge Data"
   ]
  },
  {
   "cell_type": "code",
   "execution_count": 32,
   "metadata": {},
   "outputs": [
    {
     "name": "stdout",
     "output_type": "stream",
     "text": [
      "No Duplicates: True\n",
      "Number of Nulls: 0\n"
     ]
    }
   ],
   "source": [
    "# Merge\n",
    "alldat = df.merge(customer, on='LYLTY_CARD_NBR')\n",
    "\n",
    "print('No Duplicates:', len(alldat) == len(alldat)) # check same rows, no duplicates\n",
    "print('Number of Nulls:', alldat.isnull().sum().sum()) # check for nulls"
   ]
  },
  {
   "cell_type": "code",
   "execution_count": 33,
   "metadata": {},
   "outputs": [
    {
     "data": {
      "text/html": [
       "<div>\n",
       "<style scoped>\n",
       "    .dataframe tbody tr th:only-of-type {\n",
       "        vertical-align: middle;\n",
       "    }\n",
       "\n",
       "    .dataframe tbody tr th {\n",
       "        vertical-align: top;\n",
       "    }\n",
       "\n",
       "    .dataframe thead th {\n",
       "        text-align: right;\n",
       "    }\n",
       "</style>\n",
       "<table border=\"1\" class=\"dataframe\">\n",
       "  <thead>\n",
       "    <tr style=\"text-align: right;\">\n",
       "      <th></th>\n",
       "      <th>DATE</th>\n",
       "      <th>STORE_NBR</th>\n",
       "      <th>LYLTY_CARD_NBR</th>\n",
       "      <th>TXN_ID</th>\n",
       "      <th>PROD_NBR</th>\n",
       "      <th>PROD_NAME</th>\n",
       "      <th>PROD_QTY</th>\n",
       "      <th>TOT_SALES</th>\n",
       "      <th>PROD_SIZE</th>\n",
       "      <th>Brand</th>\n",
       "      <th>LIFESTAGE</th>\n",
       "      <th>PREMIUM_CUSTOMER</th>\n",
       "    </tr>\n",
       "  </thead>\n",
       "  <tbody>\n",
       "    <tr>\n",
       "      <th>0</th>\n",
       "      <td>2018-10-17</td>\n",
       "      <td>1</td>\n",
       "      <td>1000</td>\n",
       "      <td>1</td>\n",
       "      <td>5</td>\n",
       "      <td>Natural Chip Compny SeaSalt</td>\n",
       "      <td>2</td>\n",
       "      <td>6.0</td>\n",
       "      <td>175</td>\n",
       "      <td>Natural</td>\n",
       "      <td>YOUNG SINGLES/COUPLES</td>\n",
       "      <td>Premium</td>\n",
       "    </tr>\n",
       "    <tr>\n",
       "      <th>1</th>\n",
       "      <td>2019-05-14</td>\n",
       "      <td>1</td>\n",
       "      <td>1307</td>\n",
       "      <td>348</td>\n",
       "      <td>66</td>\n",
       "      <td>CCs Nacho Cheese</td>\n",
       "      <td>3</td>\n",
       "      <td>6.3</td>\n",
       "      <td>175</td>\n",
       "      <td>CCs</td>\n",
       "      <td>MIDAGE SINGLES/COUPLES</td>\n",
       "      <td>Budget</td>\n",
       "    </tr>\n",
       "    <tr>\n",
       "      <th>2</th>\n",
       "      <td>2018-11-10</td>\n",
       "      <td>1</td>\n",
       "      <td>1307</td>\n",
       "      <td>346</td>\n",
       "      <td>96</td>\n",
       "      <td>WW Original Stacked Chips</td>\n",
       "      <td>2</td>\n",
       "      <td>3.8</td>\n",
       "      <td>160</td>\n",
       "      <td>WW</td>\n",
       "      <td>MIDAGE SINGLES/COUPLES</td>\n",
       "      <td>Budget</td>\n",
       "    </tr>\n",
       "    <tr>\n",
       "      <th>3</th>\n",
       "      <td>2019-03-09</td>\n",
       "      <td>1</td>\n",
       "      <td>1307</td>\n",
       "      <td>347</td>\n",
       "      <td>54</td>\n",
       "      <td>CCs Original</td>\n",
       "      <td>1</td>\n",
       "      <td>2.1</td>\n",
       "      <td>175</td>\n",
       "      <td>CCs</td>\n",
       "      <td>MIDAGE SINGLES/COUPLES</td>\n",
       "      <td>Budget</td>\n",
       "    </tr>\n",
       "    <tr>\n",
       "      <th>4</th>\n",
       "      <td>2019-05-20</td>\n",
       "      <td>1</td>\n",
       "      <td>1343</td>\n",
       "      <td>383</td>\n",
       "      <td>61</td>\n",
       "      <td>Smiths Crinkle Cut Chips Chicken</td>\n",
       "      <td>2</td>\n",
       "      <td>2.9</td>\n",
       "      <td>170</td>\n",
       "      <td>Smiths</td>\n",
       "      <td>MIDAGE SINGLES/COUPLES</td>\n",
       "      <td>Budget</td>\n",
       "    </tr>\n",
       "  </tbody>\n",
       "</table>\n",
       "</div>"
      ],
      "text/plain": [
       "        DATE  STORE_NBR  LYLTY_CARD_NBR  TXN_ID  PROD_NBR  \\\n",
       "0 2018-10-17          1            1000       1         5   \n",
       "1 2019-05-14          1            1307     348        66   \n",
       "2 2018-11-10          1            1307     346        96   \n",
       "3 2019-03-09          1            1307     347        54   \n",
       "4 2019-05-20          1            1343     383        61   \n",
       "\n",
       "                          PROD_NAME  PROD_QTY  TOT_SALES PROD_SIZE    Brand  \\\n",
       "0       Natural Chip Compny SeaSalt         2        6.0       175  Natural   \n",
       "1                  CCs Nacho Cheese         3        6.3       175      CCs   \n",
       "2         WW Original Stacked Chips         2        3.8       160       WW   \n",
       "3                      CCs Original         1        2.1       175      CCs   \n",
       "4  Smiths Crinkle Cut Chips Chicken         2        2.9       170   Smiths   \n",
       "\n",
       "                LIFESTAGE PREMIUM_CUSTOMER  \n",
       "0   YOUNG SINGLES/COUPLES          Premium  \n",
       "1  MIDAGE SINGLES/COUPLES           Budget  \n",
       "2  MIDAGE SINGLES/COUPLES           Budget  \n",
       "3  MIDAGE SINGLES/COUPLES           Budget  \n",
       "4  MIDAGE SINGLES/COUPLES           Budget  "
      ]
     },
     "execution_count": 33,
     "metadata": {},
     "output_type": "execute_result"
    }
   ],
   "source": [
    "alldat.head()"
   ]
  },
  {
   "cell_type": "markdown",
   "metadata": {},
   "source": [
    "## Total Sales and Quantity"
   ]
  },
  {
   "cell_type": "code",
   "execution_count": 34,
   "metadata": {},
   "outputs": [],
   "source": [
    "# Sum up for each group \n",
    "life_prem = alldat.groupby(['LIFESTAGE','PREMIUM_CUSTOMER']).agg({'TOT_SALES':'sum','PROD_QTY':'sum', 'TXN_ID':'count'}).reset_index().sort_values('TOT_SALES') # sort by TOT_SALES\n",
    "life_prem['Group'] = life_prem['LIFESTAGE'] + '_' + life_prem['PREMIUM_CUSTOMER']\n",
    "\n",
    "# sort by PROD_QTY\n",
    "life_prem_qty = life_prem.sort_values('PROD_QTY')"
   ]
  },
  {
   "cell_type": "code",
   "execution_count": 35,
   "metadata": {},
   "outputs": [
    {
     "name": "stdout",
     "output_type": "stream",
     "text": [
      "1821084.3999999582\n"
     ]
    }
   ],
   "source": [
    "total_sales = sum(alldat['TOT_SALES'])\n",
    "print(total_sales)"
   ]
  },
  {
   "cell_type": "code",
   "execution_count": 36,
   "metadata": {},
   "outputs": [
    {
     "data": {
      "text/html": [
       "<div>\n",
       "<style scoped>\n",
       "    .dataframe tbody tr th:only-of-type {\n",
       "        vertical-align: middle;\n",
       "    }\n",
       "\n",
       "    .dataframe tbody tr th {\n",
       "        vertical-align: top;\n",
       "    }\n",
       "\n",
       "    .dataframe thead th {\n",
       "        text-align: right;\n",
       "    }\n",
       "</style>\n",
       "<table border=\"1\" class=\"dataframe\">\n",
       "  <thead>\n",
       "    <tr style=\"text-align: right;\">\n",
       "      <th></th>\n",
       "      <th>DATE</th>\n",
       "      <th>STORE_NBR</th>\n",
       "      <th>LYLTY_CARD_NBR</th>\n",
       "      <th>TXN_ID</th>\n",
       "      <th>PROD_NBR</th>\n",
       "      <th>PROD_NAME</th>\n",
       "      <th>PROD_QTY</th>\n",
       "      <th>TOT_SALES</th>\n",
       "      <th>PROD_SIZE</th>\n",
       "      <th>Brand</th>\n",
       "      <th>LIFESTAGE</th>\n",
       "      <th>PREMIUM_CUSTOMER</th>\n",
       "    </tr>\n",
       "  </thead>\n",
       "  <tbody>\n",
       "    <tr>\n",
       "      <th>0</th>\n",
       "      <td>2018-10-17</td>\n",
       "      <td>1</td>\n",
       "      <td>1000</td>\n",
       "      <td>1</td>\n",
       "      <td>5</td>\n",
       "      <td>Natural Chip Compny SeaSalt</td>\n",
       "      <td>2</td>\n",
       "      <td>6.0</td>\n",
       "      <td>175</td>\n",
       "      <td>Natural</td>\n",
       "      <td>YOUNG SINGLES/COUPLES</td>\n",
       "      <td>Premium</td>\n",
       "    </tr>\n",
       "    <tr>\n",
       "      <th>1</th>\n",
       "      <td>2019-05-14</td>\n",
       "      <td>1</td>\n",
       "      <td>1307</td>\n",
       "      <td>348</td>\n",
       "      <td>66</td>\n",
       "      <td>CCs Nacho Cheese</td>\n",
       "      <td>3</td>\n",
       "      <td>6.3</td>\n",
       "      <td>175</td>\n",
       "      <td>CCs</td>\n",
       "      <td>MIDAGE SINGLES/COUPLES</td>\n",
       "      <td>Budget</td>\n",
       "    </tr>\n",
       "    <tr>\n",
       "      <th>2</th>\n",
       "      <td>2018-11-10</td>\n",
       "      <td>1</td>\n",
       "      <td>1307</td>\n",
       "      <td>346</td>\n",
       "      <td>96</td>\n",
       "      <td>WW Original Stacked Chips</td>\n",
       "      <td>2</td>\n",
       "      <td>3.8</td>\n",
       "      <td>160</td>\n",
       "      <td>WW</td>\n",
       "      <td>MIDAGE SINGLES/COUPLES</td>\n",
       "      <td>Budget</td>\n",
       "    </tr>\n",
       "    <tr>\n",
       "      <th>3</th>\n",
       "      <td>2019-03-09</td>\n",
       "      <td>1</td>\n",
       "      <td>1307</td>\n",
       "      <td>347</td>\n",
       "      <td>54</td>\n",
       "      <td>CCs Original</td>\n",
       "      <td>1</td>\n",
       "      <td>2.1</td>\n",
       "      <td>175</td>\n",
       "      <td>CCs</td>\n",
       "      <td>MIDAGE SINGLES/COUPLES</td>\n",
       "      <td>Budget</td>\n",
       "    </tr>\n",
       "    <tr>\n",
       "      <th>4</th>\n",
       "      <td>2019-05-20</td>\n",
       "      <td>1</td>\n",
       "      <td>1343</td>\n",
       "      <td>383</td>\n",
       "      <td>61</td>\n",
       "      <td>Smiths Crinkle Cut Chips Chicken</td>\n",
       "      <td>2</td>\n",
       "      <td>2.9</td>\n",
       "      <td>170</td>\n",
       "      <td>Smiths</td>\n",
       "      <td>MIDAGE SINGLES/COUPLES</td>\n",
       "      <td>Budget</td>\n",
       "    </tr>\n",
       "  </tbody>\n",
       "</table>\n",
       "</div>"
      ],
      "text/plain": [
       "        DATE  STORE_NBR  LYLTY_CARD_NBR  TXN_ID  PROD_NBR  \\\n",
       "0 2018-10-17          1            1000       1         5   \n",
       "1 2019-05-14          1            1307     348        66   \n",
       "2 2018-11-10          1            1307     346        96   \n",
       "3 2019-03-09          1            1307     347        54   \n",
       "4 2019-05-20          1            1343     383        61   \n",
       "\n",
       "                          PROD_NAME  PROD_QTY  TOT_SALES PROD_SIZE    Brand  \\\n",
       "0       Natural Chip Compny SeaSalt         2        6.0       175  Natural   \n",
       "1                  CCs Nacho Cheese         3        6.3       175      CCs   \n",
       "2         WW Original Stacked Chips         2        3.8       160       WW   \n",
       "3                      CCs Original         1        2.1       175      CCs   \n",
       "4  Smiths Crinkle Cut Chips Chicken         2        2.9       170   Smiths   \n",
       "\n",
       "                LIFESTAGE PREMIUM_CUSTOMER  \n",
       "0   YOUNG SINGLES/COUPLES          Premium  \n",
       "1  MIDAGE SINGLES/COUPLES           Budget  \n",
       "2  MIDAGE SINGLES/COUPLES           Budget  \n",
       "3  MIDAGE SINGLES/COUPLES           Budget  \n",
       "4  MIDAGE SINGLES/COUPLES           Budget  "
      ]
     },
     "execution_count": 36,
     "metadata": {},
     "output_type": "execute_result"
    }
   ],
   "source": [
    "alldat.head()"
   ]
  },
  {
   "cell_type": "code",
   "execution_count": 37,
   "metadata": {},
   "outputs": [],
   "source": [
    "Total_customers = 241584"
   ]
  },
  {
   "cell_type": "code",
   "execution_count": 38,
   "metadata": {},
   "outputs": [],
   "source": [
    "avg_turn = Total_customers / alldat.shape[0]"
   ]
  },
  {
   "cell_type": "code",
   "execution_count": 39,
   "metadata": {},
   "outputs": [
    {
     "data": {
      "text/plain": [
       "0.9676132494893259"
      ]
     },
     "execution_count": 39,
     "metadata": {},
     "output_type": "execute_result"
    }
   ],
   "source": [
    "avg_turn"
   ]
  },
  {
   "cell_type": "code",
   "execution_count": 40,
   "metadata": {},
   "outputs": [
    {
     "data": {
      "text/plain": [
       "array(['NEW FAMILIES_Premium', 'NEW FAMILIES_Mainstream',\n",
       "       'NEW FAMILIES_Budget', 'MIDAGE SINGLES/COUPLES_Budget',\n",
       "       'YOUNG SINGLES/COUPLES_Premium', 'MIDAGE SINGLES/COUPLES_Premium',\n",
       "       'YOUNG SINGLES/COUPLES_Budget', 'OLDER FAMILIES_Premium',\n",
       "       'YOUNG FAMILIES_Premium', 'MIDAGE SINGLES/COUPLES_Mainstream',\n",
       "       'RETIREES_Premium', 'YOUNG FAMILIES_Mainstream',\n",
       "       'OLDER FAMILIES_Mainstream', 'RETIREES_Budget',\n",
       "       'OLDER SINGLES/COUPLES_Premium',\n",
       "       'OLDER SINGLES/COUPLES_Mainstream', 'OLDER SINGLES/COUPLES_Budget',\n",
       "       'YOUNG FAMILIES_Budget', 'YOUNG SINGLES/COUPLES_Mainstream',\n",
       "       'RETIREES_Mainstream', 'OLDER FAMILIES_Budget'], dtype=object)"
      ]
     },
     "execution_count": 40,
     "metadata": {},
     "output_type": "execute_result"
    }
   ],
   "source": [
    "life_prem_qty['Group'].unique()"
   ]
  },
  {
   "cell_type": "code",
   "execution_count": 41,
   "metadata": {},
   "outputs": [
    {
     "data": {
      "text/html": [
       "<div>\n",
       "<style scoped>\n",
       "    .dataframe tbody tr th:only-of-type {\n",
       "        vertical-align: middle;\n",
       "    }\n",
       "\n",
       "    .dataframe tbody tr th {\n",
       "        vertical-align: top;\n",
       "    }\n",
       "\n",
       "    .dataframe thead th {\n",
       "        text-align: right;\n",
       "    }\n",
       "</style>\n",
       "<table border=\"1\" class=\"dataframe\">\n",
       "  <thead>\n",
       "    <tr style=\"text-align: right;\">\n",
       "      <th></th>\n",
       "      <th>LIFESTAGE</th>\n",
       "      <th>PREMIUM_CUSTOMER</th>\n",
       "      <th>TOT_SALES</th>\n",
       "      <th>PROD_QTY</th>\n",
       "      <th>TXN_ID</th>\n",
       "      <th>Group</th>\n",
       "    </tr>\n",
       "  </thead>\n",
       "  <tbody>\n",
       "    <tr>\n",
       "      <th>5</th>\n",
       "      <td>NEW FAMILIES</td>\n",
       "      <td>Premium</td>\n",
       "      <td>10861.70</td>\n",
       "      <td>2807</td>\n",
       "      <td>1508</td>\n",
       "      <td>NEW FAMILIES_Premium</td>\n",
       "    </tr>\n",
       "    <tr>\n",
       "      <th>4</th>\n",
       "      <td>NEW FAMILIES</td>\n",
       "      <td>Mainstream</td>\n",
       "      <td>16078.00</td>\n",
       "      <td>4097</td>\n",
       "      <td>2207</td>\n",
       "      <td>NEW FAMILIES_Mainstream</td>\n",
       "    </tr>\n",
       "    <tr>\n",
       "      <th>3</th>\n",
       "      <td>NEW FAMILIES</td>\n",
       "      <td>Budget</td>\n",
       "      <td>20716.05</td>\n",
       "      <td>5282</td>\n",
       "      <td>2847</td>\n",
       "      <td>NEW FAMILIES_Budget</td>\n",
       "    </tr>\n",
       "    <tr>\n",
       "      <th>0</th>\n",
       "      <td>MIDAGE SINGLES/COUPLES</td>\n",
       "      <td>Budget</td>\n",
       "      <td>33705.40</td>\n",
       "      <td>9019</td>\n",
       "      <td>4766</td>\n",
       "      <td>MIDAGE SINGLES/COUPLES_Budget</td>\n",
       "    </tr>\n",
       "    <tr>\n",
       "      <th>20</th>\n",
       "      <td>YOUNG SINGLES/COUPLES</td>\n",
       "      <td>Premium</td>\n",
       "      <td>39347.90</td>\n",
       "      <td>10687</td>\n",
       "      <td>5917</td>\n",
       "      <td>YOUNG SINGLES/COUPLES_Premium</td>\n",
       "    </tr>\n",
       "  </tbody>\n",
       "</table>\n",
       "</div>"
      ],
      "text/plain": [
       "                 LIFESTAGE PREMIUM_CUSTOMER  TOT_SALES  PROD_QTY  TXN_ID  \\\n",
       "5             NEW FAMILIES          Premium   10861.70      2807    1508   \n",
       "4             NEW FAMILIES       Mainstream   16078.00      4097    2207   \n",
       "3             NEW FAMILIES           Budget   20716.05      5282    2847   \n",
       "0   MIDAGE SINGLES/COUPLES           Budget   33705.40      9019    4766   \n",
       "20   YOUNG SINGLES/COUPLES          Premium   39347.90     10687    5917   \n",
       "\n",
       "                            Group  \n",
       "5            NEW FAMILIES_Premium  \n",
       "4         NEW FAMILIES_Mainstream  \n",
       "3             NEW FAMILIES_Budget  \n",
       "0   MIDAGE SINGLES/COUPLES_Budget  \n",
       "20  YOUNG SINGLES/COUPLES_Premium  "
      ]
     },
     "execution_count": 41,
     "metadata": {},
     "output_type": "execute_result"
    }
   ],
   "source": [
    "life_prem_qty.head()"
   ]
  },
  {
   "cell_type": "code",
   "execution_count": 42,
   "metadata": {},
   "outputs": [
    {
     "data": {
      "image/png": "[encoded data removed]",
      "text/plain": [
       "<Figure size 1008x432 with 2 Axes>"
      ]
     },
     "metadata": {
      "needs_background": "light"
     },
     "output_type": "display_data"
    }
   ],
   "source": [
    "fig = plt.figure(figsize=(14,6))\n",
    "ax1 = plt.subplot(121)\n",
    "ax1.hlines(life_prem_qty['Group'], xmin=0, xmax=life_prem_qty.TOT_SALES)\n",
    "ax1.plot(life_prem_qty.TOT_SALES, life_prem_qty['Group'], \"o\", color='black')\n",
    "plt.xticks(ticks=[0,50000,100000,150000])\n",
    "plt.title('Total Sales')\n",
    "plt.xlabel('Sales ($)')\n",
    "\n",
    "ax2 = plt.subplot(122)\n",
    "ax2.hlines(life_prem_qty['Group'], xmin=0, xmax=life_prem_qty.PROD_QTY)\n",
    "ax2.plot(life_prem_qty.PROD_QTY, life_prem_qty['Group'], \"o\", color='black')\n",
    "plt.xlabel('Quantity Sold')\n",
    "plt.title('Total Quantity Sold')\n",
    "\n",
    "fig.tight_layout(pad=3.0)\n",
    "plt.show()"
   ]
  },
  {
   "cell_type": "markdown",
   "metadata": {},
   "source": [
    "## Total Sales per Customer and per Unique Customer"
   ]
  },
  {
   "cell_type": "code",
   "execution_count": 43,
   "metadata": {},
   "outputs": [],
   "source": [
    "# Get number of unique customers in each group\n",
    "life_prem_pc = alldat[['LYLTY_CARD_NBR','LIFESTAGE','PREMIUM_CUSTOMER']].drop_duplicates('LYLTY_CARD_NBR').reset_index(drop=True).groupby(['LIFESTAGE','PREMIUM_CUSTOMER']).size().reset_index(name='Count').sort_values('Count').merge(life_prem, on=['LIFESTAGE','PREMIUM_CUSTOMER'])\n",
    "\n",
    "life_prem_pc['SALES_PER_C'] = life_prem_pc['TOT_SALES']/life_prem_pc['TXN_ID']\n",
    "life_prem_pc['SALES_PER_UC'] = life_prem_pc['TOT_SALES']/life_prem_pc['Count']\n",
    "life_prem_pc = life_prem_pc.sort_values('SALES_PER_C')"
   ]
  },
  {
   "cell_type": "code",
   "execution_count": 44,
   "metadata": {},
   "outputs": [
    {
     "data": {
      "text/html": [
       "<div>\n",
       "<style scoped>\n",
       "    .dataframe tbody tr th:only-of-type {\n",
       "        vertical-align: middle;\n",
       "    }\n",
       "\n",
       "    .dataframe tbody tr th {\n",
       "        vertical-align: top;\n",
       "    }\n",
       "\n",
       "    .dataframe thead th {\n",
       "        text-align: right;\n",
       "    }\n",
       "</style>\n",
       "<table border=\"1\" class=\"dataframe\">\n",
       "  <thead>\n",
       "    <tr style=\"text-align: right;\">\n",
       "      <th></th>\n",
       "      <th>LIFESTAGE</th>\n",
       "      <th>PREMIUM_CUSTOMER</th>\n",
       "      <th>Count</th>\n",
       "      <th>TOT_SALES</th>\n",
       "      <th>PROD_QTY</th>\n",
       "      <th>TXN_ID</th>\n",
       "      <th>Group</th>\n",
       "      <th>SALES_PER_C</th>\n",
       "      <th>SALES_PER_UC</th>\n",
       "    </tr>\n",
       "  </thead>\n",
       "  <tbody>\n",
       "    <tr>\n",
       "      <th>11</th>\n",
       "      <td>YOUNG SINGLES/COUPLES</td>\n",
       "      <td>Budget</td>\n",
       "      <td>3675</td>\n",
       "      <td>57622.40</td>\n",
       "      <td>15689</td>\n",
       "      <td>8687</td>\n",
       "      <td>YOUNG SINGLES/COUPLES_Budget</td>\n",
       "      <td>6.633176</td>\n",
       "      <td>15.679565</td>\n",
       "    </tr>\n",
       "    <tr>\n",
       "      <th>7</th>\n",
       "      <td>YOUNG SINGLES/COUPLES</td>\n",
       "      <td>Premium</td>\n",
       "      <td>2499</td>\n",
       "      <td>39347.90</td>\n",
       "      <td>10687</td>\n",
       "      <td>5917</td>\n",
       "      <td>YOUNG SINGLES/COUPLES_Premium</td>\n",
       "      <td>6.649975</td>\n",
       "      <td>15.745458</td>\n",
       "    </tr>\n",
       "    <tr>\n",
       "      <th>3</th>\n",
       "      <td>MIDAGE SINGLES/COUPLES</td>\n",
       "      <td>Budget</td>\n",
       "      <td>1484</td>\n",
       "      <td>33705.40</td>\n",
       "      <td>9019</td>\n",
       "      <td>4766</td>\n",
       "      <td>MIDAGE SINGLES/COUPLES_Budget</td>\n",
       "      <td>7.072052</td>\n",
       "      <td>22.712534</td>\n",
       "    </tr>\n",
       "    <tr>\n",
       "      <th>5</th>\n",
       "      <td>MIDAGE SINGLES/COUPLES</td>\n",
       "      <td>Premium</td>\n",
       "      <td>2381</td>\n",
       "      <td>55042.35</td>\n",
       "      <td>14626</td>\n",
       "      <td>7734</td>\n",
       "      <td>MIDAGE SINGLES/COUPLES_Premium</td>\n",
       "      <td>7.116932</td>\n",
       "      <td>23.117325</td>\n",
       "    </tr>\n",
       "    <tr>\n",
       "      <th>8</th>\n",
       "      <td>YOUNG FAMILIES</td>\n",
       "      <td>Mainstream</td>\n",
       "      <td>2693</td>\n",
       "      <td>87227.85</td>\n",
       "      <td>23530</td>\n",
       "      <td>12121</td>\n",
       "      <td>YOUNG FAMILIES_Mainstream</td>\n",
       "      <td>7.196424</td>\n",
       "      <td>32.390587</td>\n",
       "    </tr>\n",
       "  </tbody>\n",
       "</table>\n",
       "</div>"
      ],
      "text/plain": [
       "                 LIFESTAGE PREMIUM_CUSTOMER  Count  TOT_SALES  PROD_QTY  \\\n",
       "11   YOUNG SINGLES/COUPLES           Budget   3675   57622.40     15689   \n",
       "7    YOUNG SINGLES/COUPLES          Premium   2499   39347.90     10687   \n",
       "3   MIDAGE SINGLES/COUPLES           Budget   1484   33705.40      9019   \n",
       "5   MIDAGE SINGLES/COUPLES          Premium   2381   55042.35     14626   \n",
       "8           YOUNG FAMILIES       Mainstream   2693   87227.85     23530   \n",
       "\n",
       "    TXN_ID                           Group  SALES_PER_C  SALES_PER_UC  \n",
       "11    8687    YOUNG SINGLES/COUPLES_Budget     6.633176     15.679565  \n",
       "7     5917   YOUNG SINGLES/COUPLES_Premium     6.649975     15.745458  \n",
       "3     4766   MIDAGE SINGLES/COUPLES_Budget     7.072052     22.712534  \n",
       "5     7734  MIDAGE SINGLES/COUPLES_Premium     7.116932     23.117325  \n",
       "8    12121       YOUNG FAMILIES_Mainstream     7.196424     32.390587  "
      ]
     },
     "execution_count": 44,
     "metadata": {},
     "output_type": "execute_result"
    }
   ],
   "source": [
    "life_prem_pc.head()"
   ]
  },
  {
   "cell_type": "code",
   "execution_count": 45,
   "metadata": {},
   "outputs": [
    {
     "data": {
      "image/png": "[encoded data removed]",
      "text/plain": [
       "<Figure size 1008x432 with 2 Axes>"
      ]
     },
     "metadata": {
      "needs_background": "light"
     },
     "output_type": "display_data"
    }
   ],
   "source": [
    "fig = plt.figure(figsize=(14,6))\n",
    "ax1 = plt.subplot(121)\n",
    "ax1.hlines(life_prem_pc['Group'], xmin=0, xmax=life_prem_pc.SALES_PER_C)\n",
    "ax1.plot(life_prem_pc.SALES_PER_C, life_prem_pc['Group'], \"o\", color='black')\n",
    "plt.title('Sales Per Customer')\n",
    "plt.xlabel('Sales ($)')\n",
    "\n",
    "ax2 = plt.subplot(122)\n",
    "ax2.hlines(life_prem_pc['Group'], xmin=0, xmax=life_prem_pc.SALES_PER_UC)\n",
    "ax2.plot(life_prem_pc.SALES_PER_UC, life_prem_pc['Group'], \"o\", color='black')\n",
    "plt.xlabel('Sales ($)')\n",
    "plt.title('Sales per Unique Customer')\n",
    "\n",
    "fig.tight_layout(pad=3.0)\n",
    "plt.show()"
   ]
  },
  {
   "cell_type": "markdown",
   "metadata": {},
   "source": [
    "## Total Qunatity Purchased per Customer and per Unique Customer"
   ]
  },
  {
   "cell_type": "code",
   "execution_count": 46,
   "metadata": {},
   "outputs": [],
   "source": [
    "life_prem_pc['QTY_PER_C'] = life_prem_pc['PROD_QTY']/life_prem_pc['TXN_ID']\n",
    "life_prem_pc['QTY_PER_UC'] = life_prem_pc['PROD_QTY']/life_prem_pc['Count']\n",
    "life_prem_pc = life_prem_pc.sort_values('QTY_PER_C')"
   ]
  },
  {
   "cell_type": "code",
   "execution_count": 47,
   "metadata": {},
   "outputs": [
    {
     "data": {
      "text/html": [
       "<div>\n",
       "<style scoped>\n",
       "    .dataframe tbody tr th:only-of-type {\n",
       "        vertical-align: middle;\n",
       "    }\n",
       "\n",
       "    .dataframe tbody tr th {\n",
       "        vertical-align: top;\n",
       "    }\n",
       "\n",
       "    .dataframe thead th {\n",
       "        text-align: right;\n",
       "    }\n",
       "</style>\n",
       "<table border=\"1\" class=\"dataframe\">\n",
       "  <thead>\n",
       "    <tr style=\"text-align: right;\">\n",
       "      <th></th>\n",
       "      <th>LIFESTAGE</th>\n",
       "      <th>PREMIUM_CUSTOMER</th>\n",
       "      <th>Count</th>\n",
       "      <th>TOT_SALES</th>\n",
       "      <th>PROD_QTY</th>\n",
       "      <th>TXN_ID</th>\n",
       "      <th>Group</th>\n",
       "      <th>SALES_PER_C</th>\n",
       "      <th>SALES_PER_UC</th>\n",
       "      <th>QTY_PER_C</th>\n",
       "      <th>QTY_PER_UC</th>\n",
       "    </tr>\n",
       "  </thead>\n",
       "  <tbody>\n",
       "    <tr>\n",
       "      <th>11</th>\n",
       "      <td>YOUNG SINGLES/COUPLES</td>\n",
       "      <td>Budget</td>\n",
       "      <td>3675</td>\n",
       "      <td>57622.40</td>\n",
       "      <td>15689</td>\n",
       "      <td>8687</td>\n",
       "      <td>YOUNG SINGLES/COUPLES_Budget</td>\n",
       "      <td>6.633176</td>\n",
       "      <td>15.679565</td>\n",
       "      <td>1.806032</td>\n",
       "      <td>4.269116</td>\n",
       "    </tr>\n",
       "    <tr>\n",
       "      <th>7</th>\n",
       "      <td>YOUNG SINGLES/COUPLES</td>\n",
       "      <td>Premium</td>\n",
       "      <td>2499</td>\n",
       "      <td>39347.90</td>\n",
       "      <td>10687</td>\n",
       "      <td>5917</td>\n",
       "      <td>YOUNG SINGLES/COUPLES_Premium</td>\n",
       "      <td>6.649975</td>\n",
       "      <td>15.745458</td>\n",
       "      <td>1.806152</td>\n",
       "      <td>4.276511</td>\n",
       "    </tr>\n",
       "    <tr>\n",
       "      <th>20</th>\n",
       "      <td>YOUNG SINGLES/COUPLES</td>\n",
       "      <td>Mainstream</td>\n",
       "      <td>7930</td>\n",
       "      <td>148337.20</td>\n",
       "      <td>36509</td>\n",
       "      <td>19705</td>\n",
       "      <td>YOUNG SINGLES/COUPLES_Mainstream</td>\n",
       "      <td>7.527896</td>\n",
       "      <td>18.705826</td>\n",
       "      <td>1.852778</td>\n",
       "      <td>4.603909</td>\n",
       "    </tr>\n",
       "    <tr>\n",
       "      <th>2</th>\n",
       "      <td>NEW FAMILIES</td>\n",
       "      <td>Budget</td>\n",
       "      <td>1092</td>\n",
       "      <td>20716.05</td>\n",
       "      <td>5282</td>\n",
       "      <td>2847</td>\n",
       "      <td>NEW FAMILIES_Budget</td>\n",
       "      <td>7.276449</td>\n",
       "      <td>18.970742</td>\n",
       "      <td>1.855286</td>\n",
       "      <td>4.836996</td>\n",
       "    </tr>\n",
       "    <tr>\n",
       "      <th>1</th>\n",
       "      <td>NEW FAMILIES</td>\n",
       "      <td>Mainstream</td>\n",
       "      <td>834</td>\n",
       "      <td>16078.00</td>\n",
       "      <td>4097</td>\n",
       "      <td>2207</td>\n",
       "      <td>NEW FAMILIES_Mainstream</td>\n",
       "      <td>7.285002</td>\n",
       "      <td>19.278177</td>\n",
       "      <td>1.856366</td>\n",
       "      <td>4.912470</td>\n",
       "    </tr>\n",
       "  </tbody>\n",
       "</table>\n",
       "</div>"
      ],
      "text/plain": [
       "                LIFESTAGE PREMIUM_CUSTOMER  Count  TOT_SALES  PROD_QTY  \\\n",
       "11  YOUNG SINGLES/COUPLES           Budget   3675   57622.40     15689   \n",
       "7   YOUNG SINGLES/COUPLES          Premium   2499   39347.90     10687   \n",
       "20  YOUNG SINGLES/COUPLES       Mainstream   7930  148337.20     36509   \n",
       "2            NEW FAMILIES           Budget   1092   20716.05      5282   \n",
       "1            NEW FAMILIES       Mainstream    834   16078.00      4097   \n",
       "\n",
       "    TXN_ID                             Group  SALES_PER_C  SALES_PER_UC  \\\n",
       "11    8687      YOUNG SINGLES/COUPLES_Budget     6.633176     15.679565   \n",
       "7     5917     YOUNG SINGLES/COUPLES_Premium     6.649975     15.745458   \n",
       "20   19705  YOUNG SINGLES/COUPLES_Mainstream     7.527896     18.705826   \n",
       "2     2847               NEW FAMILIES_Budget     7.276449     18.970742   \n",
       "1     2207           NEW FAMILIES_Mainstream     7.285002     19.278177   \n",
       "\n",
       "    QTY_PER_C  QTY_PER_UC  \n",
       "11   1.806032    4.269116  \n",
       "7    1.806152    4.276511  \n",
       "20   1.852778    4.603909  \n",
       "2    1.855286    4.836996  \n",
       "1    1.856366    4.912470  "
      ]
     },
     "execution_count": 47,
     "metadata": {},
     "output_type": "execute_result"
    }
   ],
   "source": [
    "life_prem_pc.head()"
   ]
  },
  {
   "cell_type": "code",
   "execution_count": 48,
   "metadata": {},
   "outputs": [
    {
     "data": {
      "image/png": "[encoded data removed]",
      "text/plain": [
       "<Figure size 1008x432 with 2 Axes>"
      ]
     },
     "metadata": {
      "needs_background": "light"
     },
     "output_type": "display_data"
    }
   ],
   "source": [
    "fig = plt.figure(figsize=(14,6))\n",
    "ax1 = plt.subplot(121)\n",
    "ax1.hlines(life_prem_pc['Group'], xmin=0, xmax=life_prem_pc.QTY_PER_C)\n",
    "ax1.plot(life_prem_pc.QTY_PER_C, life_prem_pc['Group'], \"o\", color='black')\n",
    "plt.title('Quantity Purcahsed Per Customer')\n",
    "plt.xlabel('Quantity Sold')\n",
    "\n",
    "ax2 = plt.subplot(122)\n",
    "ax2.hlines(life_prem_pc['Group'], xmin=0, xmax=life_prem_pc.QTY_PER_UC)\n",
    "ax2.plot(life_prem_pc.QTY_PER_UC, life_prem_pc['Group'], \"o\", color='black')\n",
    "plt.xlabel('Quantity Sold')\n",
    "plt.title('Quantity Purcahsed Per Unique Customer')\n",
    "\n",
    "fig.tight_layout(pad=3.0)\n",
    "plt.show()"
   ]
  },
  {
   "cell_type": "markdown",
   "metadata": {},
   "source": [
    "## Number of Unique Customers in Each Segment"
   ]
  },
  {
   "cell_type": "code",
   "execution_count": 49,
   "metadata": {},
   "outputs": [
    {
     "data": {
      "text/plain": [
       "Text(0.5, 0, 'Number of Unique Customers')"
      ]
     },
     "execution_count": 49,
     "metadata": {},
     "output_type": "execute_result"
    },
    {
     "data": {
      "image/png": "[encoded data removed]",
      "text/plain": [
       "<Figure size 1008x432 with 1 Axes>"
      ]
     },
     "metadata": {
      "needs_background": "light"
     },
     "output_type": "display_data"
    }
   ],
   "source": [
    "fig = plt.figure(figsize=(14,6))\n",
    "ax1 = plt.subplot(121)\n",
    "ax1.hlines(life_prem_pc['Group'], xmin=0, xmax=life_prem_pc.Count)\n",
    "ax1.plot(life_prem_pc.Count,life_prem_pc['Group'], \"o\", color='black')\n",
    "plt.title('Number of Unique Customers')\n",
    "plt.xlabel('Number of Unique Customers')"
   ]
  },
  {
   "cell_type": "markdown",
   "metadata": {},
   "source": [
    "## Price Paid Per Quantity Per Unique Customer"
   ]
  },
  {
   "cell_type": "code",
   "execution_count": 50,
   "metadata": {},
   "outputs": [],
   "source": [
    "alldat['PRICE_PER_UNIT'] = alldat['TOT_SALES']/alldat['PROD_QTY'] # get price per unit\n",
    "# get price per unit of each customer then groupby lifestage and premium_customer to get average per group\n",
    "price_per_unit = alldat.groupby('LYLTY_CARD_NBR').agg({'PRICE_PER_UNIT':'mean'}).reset_index().merge(alldat[['LYLTY_CARD_NBR','LIFESTAGE','PREMIUM_CUSTOMER']], on='LYLTY_CARD_NBR').groupby(['LIFESTAGE','PREMIUM_CUSTOMER']).agg({'PRICE_PER_UNIT':'mean'}).reset_index().sort_values('PRICE_PER_UNIT')\n",
    "price_per_unit['Group'] = price_per_unit['LIFESTAGE'] + '_' + price_per_unit['PREMIUM_CUSTOMER']"
   ]
  },
  {
   "cell_type": "code",
   "execution_count": 51,
   "metadata": {},
   "outputs": [
    {
     "data": {
      "text/html": [
       "<div>\n",
       "<style scoped>\n",
       "    .dataframe tbody tr th:only-of-type {\n",
       "        vertical-align: middle;\n",
       "    }\n",
       "\n",
       "    .dataframe tbody tr th {\n",
       "        vertical-align: top;\n",
       "    }\n",
       "\n",
       "    .dataframe thead th {\n",
       "        text-align: right;\n",
       "    }\n",
       "</style>\n",
       "<table border=\"1\" class=\"dataframe\">\n",
       "  <thead>\n",
       "    <tr style=\"text-align: right;\">\n",
       "      <th></th>\n",
       "      <th>LIFESTAGE</th>\n",
       "      <th>PREMIUM_CUSTOMER</th>\n",
       "      <th>PRICE_PER_UNIT</th>\n",
       "      <th>Group</th>\n",
       "    </tr>\n",
       "  </thead>\n",
       "  <tbody>\n",
       "    <tr>\n",
       "      <th>18</th>\n",
       "      <td>YOUNG SINGLES/COUPLES</td>\n",
       "      <td>Budget</td>\n",
       "      <td>3.644112</td>\n",
       "      <td>YOUNG SINGLES/COUPLES_Budget</td>\n",
       "    </tr>\n",
       "    <tr>\n",
       "      <th>20</th>\n",
       "      <td>YOUNG SINGLES/COUPLES</td>\n",
       "      <td>Premium</td>\n",
       "      <td>3.654149</td>\n",
       "      <td>YOUNG SINGLES/COUPLES_Premium</td>\n",
       "    </tr>\n",
       "    <tr>\n",
       "      <th>8</th>\n",
       "      <td>OLDER FAMILIES</td>\n",
       "      <td>Premium</td>\n",
       "      <td>3.702489</td>\n",
       "      <td>OLDER FAMILIES_Premium</td>\n",
       "    </tr>\n",
       "    <tr>\n",
       "      <th>16</th>\n",
       "      <td>YOUNG FAMILIES</td>\n",
       "      <td>Mainstream</td>\n",
       "      <td>3.709075</td>\n",
       "      <td>YOUNG FAMILIES_Mainstream</td>\n",
       "    </tr>\n",
       "    <tr>\n",
       "      <th>7</th>\n",
       "      <td>OLDER FAMILIES</td>\n",
       "      <td>Mainstream</td>\n",
       "      <td>3.723238</td>\n",
       "      <td>OLDER FAMILIES_Mainstream</td>\n",
       "    </tr>\n",
       "  </tbody>\n",
       "</table>\n",
       "</div>"
      ],
      "text/plain": [
       "                LIFESTAGE PREMIUM_CUSTOMER  PRICE_PER_UNIT  \\\n",
       "18  YOUNG SINGLES/COUPLES           Budget        3.644112   \n",
       "20  YOUNG SINGLES/COUPLES          Premium        3.654149   \n",
       "8          OLDER FAMILIES          Premium        3.702489   \n",
       "16         YOUNG FAMILIES       Mainstream        3.709075   \n",
       "7          OLDER FAMILIES       Mainstream        3.723238   \n",
       "\n",
       "                            Group  \n",
       "18   YOUNG SINGLES/COUPLES_Budget  \n",
       "20  YOUNG SINGLES/COUPLES_Premium  \n",
       "8          OLDER FAMILIES_Premium  \n",
       "16      YOUNG FAMILIES_Mainstream  \n",
       "7       OLDER FAMILIES_Mainstream  "
      ]
     },
     "execution_count": 51,
     "metadata": {},
     "output_type": "execute_result"
    }
   ],
   "source": [
    "price_per_unit.head()"
   ]
  },
  {
   "cell_type": "code",
   "execution_count": 52,
   "metadata": {},
   "outputs": [
    {
     "data": {
      "text/plain": [
       "Text(0.5, 0, 'Price Per Qty ($)')"
      ]
     },
     "execution_count": 52,
     "metadata": {},
     "output_type": "execute_result"
    },
    {
     "data": {
      "image/png": "[encoded data removed]",
      "text/plain": [
       "<Figure size 1008x432 with 1 Axes>"
      ]
     },
     "metadata": {
      "needs_background": "light"
     },
     "output_type": "display_data"
    }
   ],
   "source": [
    "fig = plt.figure(figsize=(14,6))\n",
    "ax1 = plt.subplot(121)\n",
    "ax1.hlines(price_per_unit['Group'], xmin=0, xmax=price_per_unit.PRICE_PER_UNIT)\n",
    "ax1.plot(price_per_unit.PRICE_PER_UNIT,price_per_unit['Group'], \"o\", color='black')\n",
    "plt.title('Price Paid Per Quantity Per Unique Customer')\n",
    "plt.xlabel('Price Per Qty ($)')"
   ]
  },
  {
   "cell_type": "markdown",
   "metadata": {},
   "source": [
    "## Market Based"
   ]
  },
  {
   "cell_type": "code",
   "execution_count": 53,
   "metadata": {},
   "outputs": [
    {
     "data": {
      "text/html": [
       "<div>\n",
       "<style scoped>\n",
       "    .dataframe tbody tr th:only-of-type {\n",
       "        vertical-align: middle;\n",
       "    }\n",
       "\n",
       "    .dataframe tbody tr th {\n",
       "        vertical-align: top;\n",
       "    }\n",
       "\n",
       "    .dataframe thead th {\n",
       "        text-align: right;\n",
       "    }\n",
       "</style>\n",
       "<table border=\"1\" class=\"dataframe\">\n",
       "  <thead>\n",
       "    <tr style=\"text-align: right;\">\n",
       "      <th>Brand</th>\n",
       "      <th>Burger</th>\n",
       "      <th>CCs</th>\n",
       "      <th>Cheetos</th>\n",
       "      <th>Cheezels</th>\n",
       "      <th>Cobs</th>\n",
       "      <th>Doritos</th>\n",
       "      <th>French</th>\n",
       "      <th>Grain</th>\n",
       "      <th>Infuzions</th>\n",
       "      <th>Infzns</th>\n",
       "      <th>...</th>\n",
       "      <th>Natural</th>\n",
       "      <th>Pringles</th>\n",
       "      <th>RRD</th>\n",
       "      <th>Smiths</th>\n",
       "      <th>Sunbites</th>\n",
       "      <th>Thins</th>\n",
       "      <th>Tostitos</th>\n",
       "      <th>Twisties</th>\n",
       "      <th>Tyrrells</th>\n",
       "      <th>WW</th>\n",
       "    </tr>\n",
       "    <tr>\n",
       "      <th>LYLTY_CARD_NBR</th>\n",
       "      <th></th>\n",
       "      <th></th>\n",
       "      <th></th>\n",
       "      <th></th>\n",
       "      <th></th>\n",
       "      <th></th>\n",
       "      <th></th>\n",
       "      <th></th>\n",
       "      <th></th>\n",
       "      <th></th>\n",
       "      <th></th>\n",
       "      <th></th>\n",
       "      <th></th>\n",
       "      <th></th>\n",
       "      <th></th>\n",
       "      <th></th>\n",
       "      <th></th>\n",
       "      <th></th>\n",
       "      <th></th>\n",
       "      <th></th>\n",
       "      <th></th>\n",
       "    </tr>\n",
       "  </thead>\n",
       "  <tbody>\n",
       "    <tr>\n",
       "      <th>1002</th>\n",
       "      <td>0</td>\n",
       "      <td>0</td>\n",
       "      <td>0</td>\n",
       "      <td>0</td>\n",
       "      <td>0</td>\n",
       "      <td>0</td>\n",
       "      <td>0</td>\n",
       "      <td>0</td>\n",
       "      <td>0</td>\n",
       "      <td>0</td>\n",
       "      <td>...</td>\n",
       "      <td>0</td>\n",
       "      <td>0</td>\n",
       "      <td>1</td>\n",
       "      <td>0</td>\n",
       "      <td>0</td>\n",
       "      <td>0</td>\n",
       "      <td>0</td>\n",
       "      <td>0</td>\n",
       "      <td>0</td>\n",
       "      <td>0</td>\n",
       "    </tr>\n",
       "    <tr>\n",
       "      <th>1010</th>\n",
       "      <td>0</td>\n",
       "      <td>0</td>\n",
       "      <td>0</td>\n",
       "      <td>0</td>\n",
       "      <td>0</td>\n",
       "      <td>1</td>\n",
       "      <td>0</td>\n",
       "      <td>0</td>\n",
       "      <td>0</td>\n",
       "      <td>0</td>\n",
       "      <td>...</td>\n",
       "      <td>0</td>\n",
       "      <td>0</td>\n",
       "      <td>0</td>\n",
       "      <td>0</td>\n",
       "      <td>0</td>\n",
       "      <td>0</td>\n",
       "      <td>0</td>\n",
       "      <td>0</td>\n",
       "      <td>0</td>\n",
       "      <td>0</td>\n",
       "    </tr>\n",
       "    <tr>\n",
       "      <th>1018</th>\n",
       "      <td>0</td>\n",
       "      <td>0</td>\n",
       "      <td>0</td>\n",
       "      <td>0</td>\n",
       "      <td>0</td>\n",
       "      <td>0</td>\n",
       "      <td>0</td>\n",
       "      <td>0</td>\n",
       "      <td>1</td>\n",
       "      <td>0</td>\n",
       "      <td>...</td>\n",
       "      <td>0</td>\n",
       "      <td>0</td>\n",
       "      <td>1</td>\n",
       "      <td>0</td>\n",
       "      <td>0</td>\n",
       "      <td>0</td>\n",
       "      <td>0</td>\n",
       "      <td>0</td>\n",
       "      <td>0</td>\n",
       "      <td>0</td>\n",
       "    </tr>\n",
       "    <tr>\n",
       "      <th>1020</th>\n",
       "      <td>0</td>\n",
       "      <td>0</td>\n",
       "      <td>0</td>\n",
       "      <td>0</td>\n",
       "      <td>0</td>\n",
       "      <td>0</td>\n",
       "      <td>0</td>\n",
       "      <td>1</td>\n",
       "      <td>0</td>\n",
       "      <td>0</td>\n",
       "      <td>...</td>\n",
       "      <td>0</td>\n",
       "      <td>0</td>\n",
       "      <td>0</td>\n",
       "      <td>1</td>\n",
       "      <td>0</td>\n",
       "      <td>0</td>\n",
       "      <td>0</td>\n",
       "      <td>0</td>\n",
       "      <td>0</td>\n",
       "      <td>0</td>\n",
       "    </tr>\n",
       "    <tr>\n",
       "      <th>1060</th>\n",
       "      <td>0</td>\n",
       "      <td>0</td>\n",
       "      <td>0</td>\n",
       "      <td>0</td>\n",
       "      <td>0</td>\n",
       "      <td>1</td>\n",
       "      <td>0</td>\n",
       "      <td>0</td>\n",
       "      <td>0</td>\n",
       "      <td>0</td>\n",
       "      <td>...</td>\n",
       "      <td>0</td>\n",
       "      <td>0</td>\n",
       "      <td>0</td>\n",
       "      <td>0</td>\n",
       "      <td>0</td>\n",
       "      <td>0</td>\n",
       "      <td>0</td>\n",
       "      <td>1</td>\n",
       "      <td>1</td>\n",
       "      <td>0</td>\n",
       "    </tr>\n",
       "    <tr>\n",
       "      <th>...</th>\n",
       "      <td>...</td>\n",
       "      <td>...</td>\n",
       "      <td>...</td>\n",
       "      <td>...</td>\n",
       "      <td>...</td>\n",
       "      <td>...</td>\n",
       "      <td>...</td>\n",
       "      <td>...</td>\n",
       "      <td>...</td>\n",
       "      <td>...</td>\n",
       "      <td>...</td>\n",
       "      <td>...</td>\n",
       "      <td>...</td>\n",
       "      <td>...</td>\n",
       "      <td>...</td>\n",
       "      <td>...</td>\n",
       "      <td>...</td>\n",
       "      <td>...</td>\n",
       "      <td>...</td>\n",
       "      <td>...</td>\n",
       "      <td>...</td>\n",
       "    </tr>\n",
       "    <tr>\n",
       "      <th>272391</th>\n",
       "      <td>0</td>\n",
       "      <td>0</td>\n",
       "      <td>0</td>\n",
       "      <td>0</td>\n",
       "      <td>0</td>\n",
       "      <td>0</td>\n",
       "      <td>0</td>\n",
       "      <td>0</td>\n",
       "      <td>0</td>\n",
       "      <td>0</td>\n",
       "      <td>...</td>\n",
       "      <td>0</td>\n",
       "      <td>0</td>\n",
       "      <td>0</td>\n",
       "      <td>0</td>\n",
       "      <td>0</td>\n",
       "      <td>0</td>\n",
       "      <td>0</td>\n",
       "      <td>0</td>\n",
       "      <td>0</td>\n",
       "      <td>0</td>\n",
       "    </tr>\n",
       "    <tr>\n",
       "      <th>2330041</th>\n",
       "      <td>0</td>\n",
       "      <td>0</td>\n",
       "      <td>0</td>\n",
       "      <td>0</td>\n",
       "      <td>0</td>\n",
       "      <td>0</td>\n",
       "      <td>0</td>\n",
       "      <td>1</td>\n",
       "      <td>0</td>\n",
       "      <td>0</td>\n",
       "      <td>...</td>\n",
       "      <td>0</td>\n",
       "      <td>0</td>\n",
       "      <td>0</td>\n",
       "      <td>0</td>\n",
       "      <td>0</td>\n",
       "      <td>0</td>\n",
       "      <td>0</td>\n",
       "      <td>0</td>\n",
       "      <td>0</td>\n",
       "      <td>0</td>\n",
       "    </tr>\n",
       "    <tr>\n",
       "      <th>2330321</th>\n",
       "      <td>0</td>\n",
       "      <td>0</td>\n",
       "      <td>0</td>\n",
       "      <td>0</td>\n",
       "      <td>0</td>\n",
       "      <td>0</td>\n",
       "      <td>0</td>\n",
       "      <td>0</td>\n",
       "      <td>0</td>\n",
       "      <td>0</td>\n",
       "      <td>...</td>\n",
       "      <td>0</td>\n",
       "      <td>0</td>\n",
       "      <td>0</td>\n",
       "      <td>0</td>\n",
       "      <td>0</td>\n",
       "      <td>0</td>\n",
       "      <td>0</td>\n",
       "      <td>1</td>\n",
       "      <td>0</td>\n",
       "      <td>0</td>\n",
       "    </tr>\n",
       "    <tr>\n",
       "      <th>2370181</th>\n",
       "      <td>0</td>\n",
       "      <td>0</td>\n",
       "      <td>0</td>\n",
       "      <td>0</td>\n",
       "      <td>0</td>\n",
       "      <td>0</td>\n",
       "      <td>0</td>\n",
       "      <td>0</td>\n",
       "      <td>0</td>\n",
       "      <td>0</td>\n",
       "      <td>...</td>\n",
       "      <td>0</td>\n",
       "      <td>0</td>\n",
       "      <td>0</td>\n",
       "      <td>0</td>\n",
       "      <td>0</td>\n",
       "      <td>0</td>\n",
       "      <td>0</td>\n",
       "      <td>0</td>\n",
       "      <td>0</td>\n",
       "      <td>0</td>\n",
       "    </tr>\n",
       "    <tr>\n",
       "      <th>2373711</th>\n",
       "      <td>0</td>\n",
       "      <td>0</td>\n",
       "      <td>0</td>\n",
       "      <td>0</td>\n",
       "      <td>0</td>\n",
       "      <td>0</td>\n",
       "      <td>0</td>\n",
       "      <td>0</td>\n",
       "      <td>0</td>\n",
       "      <td>0</td>\n",
       "      <td>...</td>\n",
       "      <td>0</td>\n",
       "      <td>0</td>\n",
       "      <td>0</td>\n",
       "      <td>1</td>\n",
       "      <td>0</td>\n",
       "      <td>0</td>\n",
       "      <td>0</td>\n",
       "      <td>0</td>\n",
       "      <td>0</td>\n",
       "      <td>0</td>\n",
       "    </tr>\n",
       "  </tbody>\n",
       "</table>\n",
       "<p>7930 rows × 22 columns</p>\n",
       "</div>"
      ],
      "text/plain": [
       "Brand           Burger  CCs  Cheetos  Cheezels  Cobs  Doritos  French  Grain  \\\n",
       "LYLTY_CARD_NBR                                                                 \n",
       "1002                 0    0        0         0     0        0       0      0   \n",
       "1010                 0    0        0         0     0        1       0      0   \n",
       "1018                 0    0        0         0     0        0       0      0   \n",
       "1020                 0    0        0         0     0        0       0      1   \n",
       "1060                 0    0        0         0     0        1       0      0   \n",
       "...                ...  ...      ...       ...   ...      ...     ...    ...   \n",
       "272391               0    0        0         0     0        0       0      0   \n",
       "2330041              0    0        0         0     0        0       0      1   \n",
       "2330321              0    0        0         0     0        0       0      0   \n",
       "2370181              0    0        0         0     0        0       0      0   \n",
       "2373711              0    0        0         0     0        0       0      0   \n",
       "\n",
       "Brand           Infuzions  Infzns  ...  Natural  Pringles  RRD  Smiths  \\\n",
       "LYLTY_CARD_NBR                     ...                                   \n",
       "1002                    0       0  ...        0         0    1       0   \n",
       "1010                    0       0  ...        0         0    0       0   \n",
       "1018                    1       0  ...        0         0    1       0   \n",
       "1020                    0       0  ...        0         0    0       1   \n",
       "1060                    0       0  ...        0         0    0       0   \n",
       "...                   ...     ...  ...      ...       ...  ...     ...   \n",
       "272391                  0       0  ...        0         0    0       0   \n",
       "2330041                 0       0  ...        0         0    0       0   \n",
       "2330321                 0       0  ...        0         0    0       0   \n",
       "2370181                 0       0  ...        0         0    0       0   \n",
       "2373711                 0       0  ...        0         0    0       1   \n",
       "\n",
       "Brand           Sunbites  Thins  Tostitos  Twisties  Tyrrells  WW  \n",
       "LYLTY_CARD_NBR                                                     \n",
       "1002                   0      0         0         0         0   0  \n",
       "1010                   0      0         0         0         0   0  \n",
       "1018                   0      0         0         0         0   0  \n",
       "1020                   0      0         0         0         0   0  \n",
       "1060                   0      0         0         1         1   0  \n",
       "...                  ...    ...       ...       ...       ...  ..  \n",
       "272391                 0      0         0         0         0   0  \n",
       "2330041                0      0         0         0         0   0  \n",
       "2330321                0      0         0         1         0   0  \n",
       "2370181                0      0         0         0         0   0  \n",
       "2373711                0      0         0         0         0   0  \n",
       "\n",
       "[7930 rows x 22 columns]"
      ]
     },
     "execution_count": 53,
     "metadata": {},
     "output_type": "execute_result"
    }
   ],
   "source": [
    "basket = (alldat[(alldat['LIFESTAGE']=='YOUNG SINGLES/COUPLES') & (alldat['PREMIUM_CUSTOMER']=='Mainstream')]\n",
    "        .groupby(['LYLTY_CARD_NBR','Brand'])['PROD_QTY']\n",
    "        .sum().unstack().reset_index().fillna(0)\n",
    "        .set_index('LYLTY_CARD_NBR'))\n",
    "\n",
    "def encode_units(x):\n",
    "    if x <= 0:\n",
    "        return 0\n",
    "    if x >= 1:\n",
    "        return 1\n",
    "\n",
    "basket_sets = basket.applymap(encode_units)\n",
    "basket_sets"
   ]
  },
  {
   "cell_type": "code",
   "execution_count": 54,
   "metadata": {},
   "outputs": [
    {
     "data": {
      "text/html": [
       "<div>\n",
       "<style scoped>\n",
       "    .dataframe tbody tr th:only-of-type {\n",
       "        vertical-align: middle;\n",
       "    }\n",
       "\n",
       "    .dataframe tbody tr th {\n",
       "        vertical-align: top;\n",
       "    }\n",
       "\n",
       "    .dataframe thead th {\n",
       "        text-align: right;\n",
       "    }\n",
       "</style>\n",
       "<table border=\"1\" class=\"dataframe\">\n",
       "  <thead>\n",
       "    <tr style=\"text-align: right;\">\n",
       "      <th></th>\n",
       "      <th>support</th>\n",
       "      <th>itemsets</th>\n",
       "    </tr>\n",
       "  </thead>\n",
       "  <tbody>\n",
       "    <tr>\n",
       "      <th>0</th>\n",
       "      <td>0.103657</td>\n",
       "      <td>(Cobs)</td>\n",
       "    </tr>\n",
       "    <tr>\n",
       "      <th>1</th>\n",
       "      <td>0.259899</td>\n",
       "      <td>(Doritos)</td>\n",
       "    </tr>\n",
       "    <tr>\n",
       "      <th>2</th>\n",
       "      <td>0.078689</td>\n",
       "      <td>(Grain)</td>\n",
       "    </tr>\n",
       "    <tr>\n",
       "      <th>3</th>\n",
       "      <td>0.111980</td>\n",
       "      <td>(Infuzions)</td>\n",
       "    </tr>\n",
       "    <tr>\n",
       "      <th>4</th>\n",
       "      <td>0.386507</td>\n",
       "      <td>(Kettle)</td>\n",
       "    </tr>\n",
       "    <tr>\n",
       "      <th>5</th>\n",
       "      <td>0.255738</td>\n",
       "      <td>(Pringles)</td>\n",
       "    </tr>\n",
       "    <tr>\n",
       "      <th>6</th>\n",
       "      <td>0.102018</td>\n",
       "      <td>(RRD)</td>\n",
       "    </tr>\n",
       "    <tr>\n",
       "      <th>7</th>\n",
       "      <td>0.207818</td>\n",
       "      <td>(Smiths)</td>\n",
       "    </tr>\n",
       "    <tr>\n",
       "      <th>8</th>\n",
       "      <td>0.135813</td>\n",
       "      <td>(Thins)</td>\n",
       "    </tr>\n",
       "    <tr>\n",
       "      <th>9</th>\n",
       "      <td>0.105675</td>\n",
       "      <td>(Tostitos)</td>\n",
       "    </tr>\n",
       "    <tr>\n",
       "      <th>10</th>\n",
       "      <td>0.107188</td>\n",
       "      <td>(Twisties)</td>\n",
       "    </tr>\n",
       "    <tr>\n",
       "      <th>11</th>\n",
       "      <td>0.076040</td>\n",
       "      <td>(Tyrrells)</td>\n",
       "    </tr>\n",
       "    <tr>\n",
       "      <th>12</th>\n",
       "      <td>0.089786</td>\n",
       "      <td>(Doritos, Kettle)</td>\n",
       "    </tr>\n",
       "    <tr>\n",
       "      <th>13</th>\n",
       "      <td>0.091299</td>\n",
       "      <td>(Pringles, Kettle)</td>\n",
       "    </tr>\n",
       "    <tr>\n",
       "      <th>14</th>\n",
       "      <td>0.077175</td>\n",
       "      <td>(Smiths, Kettle)</td>\n",
       "    </tr>\n",
       "  </tbody>\n",
       "</table>\n",
       "</div>"
      ],
      "text/plain": [
       "     support            itemsets\n",
       "0   0.103657              (Cobs)\n",
       "1   0.259899           (Doritos)\n",
       "2   0.078689             (Grain)\n",
       "3   0.111980         (Infuzions)\n",
       "4   0.386507            (Kettle)\n",
       "5   0.255738          (Pringles)\n",
       "6   0.102018               (RRD)\n",
       "7   0.207818            (Smiths)\n",
       "8   0.135813             (Thins)\n",
       "9   0.105675          (Tostitos)\n",
       "10  0.107188          (Twisties)\n",
       "11  0.076040          (Tyrrells)\n",
       "12  0.089786   (Doritos, Kettle)\n",
       "13  0.091299  (Pringles, Kettle)\n",
       "14  0.077175    (Smiths, Kettle)"
      ]
     },
     "execution_count": 54,
     "metadata": {},
     "output_type": "execute_result"
    }
   ],
   "source": [
    "frequent_itemsets = apriori(basket_sets, min_support=0.07, use_colnames=True)\n",
    "frequent_itemsets"
   ]
  },
  {
   "cell_type": "code",
   "execution_count": 55,
   "metadata": {},
   "outputs": [
    {
     "data": {
      "text/html": [
       "<div>\n",
       "<style scoped>\n",
       "    .dataframe tbody tr th:only-of-type {\n",
       "        vertical-align: middle;\n",
       "    }\n",
       "\n",
       "    .dataframe tbody tr th {\n",
       "        vertical-align: top;\n",
       "    }\n",
       "\n",
       "    .dataframe thead th {\n",
       "        text-align: right;\n",
       "    }\n",
       "</style>\n",
       "<table border=\"1\" class=\"dataframe\">\n",
       "  <thead>\n",
       "    <tr style=\"text-align: right;\">\n",
       "      <th></th>\n",
       "      <th>antecedents</th>\n",
       "      <th>consequents</th>\n",
       "      <th>antecedent support</th>\n",
       "      <th>consequent support</th>\n",
       "      <th>support</th>\n",
       "      <th>confidence</th>\n",
       "      <th>lift</th>\n",
       "      <th>leverage</th>\n",
       "      <th>conviction</th>\n",
       "    </tr>\n",
       "  </thead>\n",
       "  <tbody>\n",
       "    <tr>\n",
       "      <th>0</th>\n",
       "      <td>(Doritos)</td>\n",
       "      <td>(Kettle)</td>\n",
       "      <td>0.259899</td>\n",
       "      <td>0.386507</td>\n",
       "      <td>0.089786</td>\n",
       "      <td>0.345463</td>\n",
       "      <td>0.893809</td>\n",
       "      <td>-0.010667</td>\n",
       "      <td>0.937294</td>\n",
       "    </tr>\n",
       "    <tr>\n",
       "      <th>1</th>\n",
       "      <td>(Kettle)</td>\n",
       "      <td>(Doritos)</td>\n",
       "      <td>0.386507</td>\n",
       "      <td>0.259899</td>\n",
       "      <td>0.089786</td>\n",
       "      <td>0.232300</td>\n",
       "      <td>0.893809</td>\n",
       "      <td>-0.010667</td>\n",
       "      <td>0.964050</td>\n",
       "    </tr>\n",
       "    <tr>\n",
       "      <th>2</th>\n",
       "      <td>(Pringles)</td>\n",
       "      <td>(Kettle)</td>\n",
       "      <td>0.255738</td>\n",
       "      <td>0.386507</td>\n",
       "      <td>0.091299</td>\n",
       "      <td>0.357002</td>\n",
       "      <td>0.923663</td>\n",
       "      <td>-0.007546</td>\n",
       "      <td>0.954113</td>\n",
       "    </tr>\n",
       "    <tr>\n",
       "      <th>3</th>\n",
       "      <td>(Kettle)</td>\n",
       "      <td>(Pringles)</td>\n",
       "      <td>0.386507</td>\n",
       "      <td>0.255738</td>\n",
       "      <td>0.091299</td>\n",
       "      <td>0.236215</td>\n",
       "      <td>0.923663</td>\n",
       "      <td>-0.007546</td>\n",
       "      <td>0.974440</td>\n",
       "    </tr>\n",
       "    <tr>\n",
       "      <th>4</th>\n",
       "      <td>(Smiths)</td>\n",
       "      <td>(Kettle)</td>\n",
       "      <td>0.207818</td>\n",
       "      <td>0.386507</td>\n",
       "      <td>0.077175</td>\n",
       "      <td>0.371359</td>\n",
       "      <td>0.960809</td>\n",
       "      <td>-0.003148</td>\n",
       "      <td>0.975904</td>\n",
       "    </tr>\n",
       "  </tbody>\n",
       "</table>\n",
       "</div>"
      ],
      "text/plain": [
       "  antecedents consequents  antecedent support  consequent support   support  \\\n",
       "0   (Doritos)    (Kettle)            0.259899            0.386507  0.089786   \n",
       "1    (Kettle)   (Doritos)            0.386507            0.259899  0.089786   \n",
       "2  (Pringles)    (Kettle)            0.255738            0.386507  0.091299   \n",
       "3    (Kettle)  (Pringles)            0.386507            0.255738  0.091299   \n",
       "4    (Smiths)    (Kettle)            0.207818            0.386507  0.077175   \n",
       "\n",
       "   confidence      lift  leverage  conviction  \n",
       "0    0.345463  0.893809 -0.010667    0.937294  \n",
       "1    0.232300  0.893809 -0.010667    0.964050  \n",
       "2    0.357002  0.923663 -0.007546    0.954113  \n",
       "3    0.236215  0.923663 -0.007546    0.974440  \n",
       "4    0.371359  0.960809 -0.003148    0.975904  "
      ]
     },
     "execution_count": 55,
     "metadata": {},
     "output_type": "execute_result"
    }
   ],
   "source": [
    "rules = association_rules(frequent_itemsets, metric=\"lift\")\n",
    "rules.head()"
   ]
  },
  {
   "cell_type": "code",
   "execution_count": null,
   "metadata": {},
   "outputs": [],
   "source": []
  }
 ],
 "metadata": {
  "kernelspec": {
   "display_name": "Python 3",
   "language": "python",
   "name": "python3"
  },
  "language_info": {
   "codemirror_mode": {
    "name": "ipython",
    "version": 3
   },
   "file_extension": ".py",
   "mimetype": "text/x-python",
   "name": "python",
   "nbconvert_exporter": "python",
   "pygments_lexer": "ipython3",
   "version": "3.7.7"
  }
 },
 "nbformat": 4,
 "nbformat_minor": 4
}
